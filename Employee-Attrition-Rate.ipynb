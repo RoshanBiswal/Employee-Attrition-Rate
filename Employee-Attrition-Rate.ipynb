{
 "cells": [
  {
   "cell_type": "code",
   "execution_count": 420,
   "metadata": {},
   "outputs": [],
   "source": [
    "import os\n",
    "import numpy as np\n",
    "import pandas as pd\n",
    "import seaborn as sns\n",
    "import xlrd"
   ]
  },
  {
   "cell_type": "code",
   "execution_count": 421,
   "metadata": {},
   "outputs": [],
   "source": [
    "os.chdir(r\"C:\\Users\\91844\\Downloads\")\n",
    "df = pd.read_excel('Scytale_Round2_Dataset.xlsx', sheet_name='Dataset') "
   ]
  },
  {
   "cell_type": "code",
   "execution_count": 422,
   "metadata": {},
   "outputs": [
    {
     "data": {
      "text/plain": [
       "(899, 19)"
      ]
     },
     "execution_count": 422,
     "metadata": {},
     "output_type": "execute_result"
    }
   ],
   "source": [
    "df.shape"
   ]
  },
  {
   "cell_type": "code",
   "execution_count": 423,
   "metadata": {},
   "outputs": [
    {
     "data": {
      "text/html": [
       "<div>\n",
       "<style scoped>\n",
       "    .dataframe tbody tr th:only-of-type {\n",
       "        vertical-align: middle;\n",
       "    }\n",
       "\n",
       "    .dataframe tbody tr th {\n",
       "        vertical-align: top;\n",
       "    }\n",
       "\n",
       "    .dataframe thead th {\n",
       "        text-align: right;\n",
       "    }\n",
       "</style>\n",
       "<table border=\"1\" class=\"dataframe\">\n",
       "  <thead>\n",
       "    <tr style=\"text-align: right;\">\n",
       "      <th></th>\n",
       "      <th>Age</th>\n",
       "      <th>Job Satisfaction</th>\n",
       "      <th>BusinessTravel</th>\n",
       "      <th>Department</th>\n",
       "      <th>Distance From Home</th>\n",
       "      <th>Education Field</th>\n",
       "      <th>Gender</th>\n",
       "      <th>JobRole</th>\n",
       "      <th>Marital Status</th>\n",
       "      <th>Monthly Income</th>\n",
       "      <th>Over Time</th>\n",
       "      <th>Percent Salary Hike</th>\n",
       "      <th>Performance Rating</th>\n",
       "      <th>Relationship Satisfaction</th>\n",
       "      <th>Total Working Years</th>\n",
       "      <th>Years At Company</th>\n",
       "      <th>Years In Current Role</th>\n",
       "      <th>Years Since Last Promotion</th>\n",
       "      <th>Years With Curr Manager</th>\n",
       "    </tr>\n",
       "  </thead>\n",
       "  <tbody>\n",
       "    <tr>\n",
       "      <th>0</th>\n",
       "      <td>41</td>\n",
       "      <td>Yes</td>\n",
       "      <td>Travel_Rarely</td>\n",
       "      <td>Sales</td>\n",
       "      <td>1</td>\n",
       "      <td>Life Sciences</td>\n",
       "      <td>Female</td>\n",
       "      <td>Sales Executive</td>\n",
       "      <td>Single</td>\n",
       "      <td>5993</td>\n",
       "      <td>Yes</td>\n",
       "      <td>11</td>\n",
       "      <td>3</td>\n",
       "      <td>1</td>\n",
       "      <td>8</td>\n",
       "      <td>6</td>\n",
       "      <td>4</td>\n",
       "      <td>0</td>\n",
       "      <td>5</td>\n",
       "    </tr>\n",
       "    <tr>\n",
       "      <th>1</th>\n",
       "      <td>49</td>\n",
       "      <td>No</td>\n",
       "      <td>Travel_Frequently</td>\n",
       "      <td>Research &amp; Development</td>\n",
       "      <td>8</td>\n",
       "      <td>Life Sciences</td>\n",
       "      <td>Male</td>\n",
       "      <td>Research Scientist</td>\n",
       "      <td>Married</td>\n",
       "      <td>5130</td>\n",
       "      <td>No</td>\n",
       "      <td>23</td>\n",
       "      <td>4</td>\n",
       "      <td>4</td>\n",
       "      <td>10</td>\n",
       "      <td>10</td>\n",
       "      <td>7</td>\n",
       "      <td>1</td>\n",
       "      <td>7</td>\n",
       "    </tr>\n",
       "    <tr>\n",
       "      <th>2</th>\n",
       "      <td>37</td>\n",
       "      <td>Yes</td>\n",
       "      <td>Travel_Rarely</td>\n",
       "      <td>Research &amp; Development</td>\n",
       "      <td>2</td>\n",
       "      <td>Other</td>\n",
       "      <td>Male</td>\n",
       "      <td>Laboratory Technician</td>\n",
       "      <td>Single</td>\n",
       "      <td>2090</td>\n",
       "      <td>Yes</td>\n",
       "      <td>15</td>\n",
       "      <td>3</td>\n",
       "      <td>2</td>\n",
       "      <td>7</td>\n",
       "      <td>0</td>\n",
       "      <td>0</td>\n",
       "      <td>0</td>\n",
       "      <td>0</td>\n",
       "    </tr>\n",
       "    <tr>\n",
       "      <th>3</th>\n",
       "      <td>33</td>\n",
       "      <td>No</td>\n",
       "      <td>Travel_Frequently</td>\n",
       "      <td>Research &amp; Development</td>\n",
       "      <td>3</td>\n",
       "      <td>Life Sciences</td>\n",
       "      <td>Female</td>\n",
       "      <td>Research Scientist</td>\n",
       "      <td>Married</td>\n",
       "      <td>2909</td>\n",
       "      <td>Yes</td>\n",
       "      <td>11</td>\n",
       "      <td>3</td>\n",
       "      <td>3</td>\n",
       "      <td>8</td>\n",
       "      <td>8</td>\n",
       "      <td>7</td>\n",
       "      <td>3</td>\n",
       "      <td>0</td>\n",
       "    </tr>\n",
       "    <tr>\n",
       "      <th>4</th>\n",
       "      <td>27</td>\n",
       "      <td>No</td>\n",
       "      <td>Travel_Rarely</td>\n",
       "      <td>Research &amp; Development</td>\n",
       "      <td>2</td>\n",
       "      <td>Medical</td>\n",
       "      <td>Male</td>\n",
       "      <td>Laboratory Technician</td>\n",
       "      <td>Married</td>\n",
       "      <td>3468</td>\n",
       "      <td>No</td>\n",
       "      <td>12</td>\n",
       "      <td>3</td>\n",
       "      <td>4</td>\n",
       "      <td>6</td>\n",
       "      <td>2</td>\n",
       "      <td>2</td>\n",
       "      <td>2</td>\n",
       "      <td>2</td>\n",
       "    </tr>\n",
       "    <tr>\n",
       "      <th>...</th>\n",
       "      <td>...</td>\n",
       "      <td>...</td>\n",
       "      <td>...</td>\n",
       "      <td>...</td>\n",
       "      <td>...</td>\n",
       "      <td>...</td>\n",
       "      <td>...</td>\n",
       "      <td>...</td>\n",
       "      <td>...</td>\n",
       "      <td>...</td>\n",
       "      <td>...</td>\n",
       "      <td>...</td>\n",
       "      <td>...</td>\n",
       "      <td>...</td>\n",
       "      <td>...</td>\n",
       "      <td>...</td>\n",
       "      <td>...</td>\n",
       "      <td>...</td>\n",
       "      <td>...</td>\n",
       "    </tr>\n",
       "    <tr>\n",
       "      <th>894</th>\n",
       "      <td>54</td>\n",
       "      <td>No</td>\n",
       "      <td>Travel_Rarely</td>\n",
       "      <td>Research &amp; Development</td>\n",
       "      <td>3</td>\n",
       "      <td>Life Sciences</td>\n",
       "      <td>Male</td>\n",
       "      <td>Research Director</td>\n",
       "      <td>Married</td>\n",
       "      <td>17779</td>\n",
       "      <td>No</td>\n",
       "      <td>14</td>\n",
       "      <td>3</td>\n",
       "      <td>1</td>\n",
       "      <td>36</td>\n",
       "      <td>10</td>\n",
       "      <td>9</td>\n",
       "      <td>0</td>\n",
       "      <td>9</td>\n",
       "    </tr>\n",
       "    <tr>\n",
       "      <th>895</th>\n",
       "      <td>31</td>\n",
       "      <td>No</td>\n",
       "      <td>Travel_Rarely</td>\n",
       "      <td>Research &amp; Development</td>\n",
       "      <td>11</td>\n",
       "      <td>Medical</td>\n",
       "      <td>Male</td>\n",
       "      <td>Healthcare Representative</td>\n",
       "      <td>Married</td>\n",
       "      <td>6833</td>\n",
       "      <td>Yes</td>\n",
       "      <td>12</td>\n",
       "      <td>3</td>\n",
       "      <td>4</td>\n",
       "      <td>6</td>\n",
       "      <td>6</td>\n",
       "      <td>5</td>\n",
       "      <td>0</td>\n",
       "      <td>1</td>\n",
       "    </tr>\n",
       "    <tr>\n",
       "      <th>896</th>\n",
       "      <td>31</td>\n",
       "      <td>No</td>\n",
       "      <td>Travel_Rarely</td>\n",
       "      <td>Research &amp; Development</td>\n",
       "      <td>24</td>\n",
       "      <td>Medical</td>\n",
       "      <td>Female</td>\n",
       "      <td>Healthcare Representative</td>\n",
       "      <td>Single</td>\n",
       "      <td>6812</td>\n",
       "      <td>No</td>\n",
       "      <td>19</td>\n",
       "      <td>3</td>\n",
       "      <td>2</td>\n",
       "      <td>10</td>\n",
       "      <td>10</td>\n",
       "      <td>9</td>\n",
       "      <td>1</td>\n",
       "      <td>8</td>\n",
       "    </tr>\n",
       "    <tr>\n",
       "      <th>897</th>\n",
       "      <td>59</td>\n",
       "      <td>No</td>\n",
       "      <td>Travel_Rarely</td>\n",
       "      <td>Sales</td>\n",
       "      <td>3</td>\n",
       "      <td>Life Sciences</td>\n",
       "      <td>Female</td>\n",
       "      <td>Sales Executive</td>\n",
       "      <td>Single</td>\n",
       "      <td>5171</td>\n",
       "      <td>No</td>\n",
       "      <td>17</td>\n",
       "      <td>3</td>\n",
       "      <td>4</td>\n",
       "      <td>13</td>\n",
       "      <td>6</td>\n",
       "      <td>1</td>\n",
       "      <td>0</td>\n",
       "      <td>5</td>\n",
       "    </tr>\n",
       "    <tr>\n",
       "      <th>898</th>\n",
       "      <td>43</td>\n",
       "      <td>No</td>\n",
       "      <td>Travel_Rarely</td>\n",
       "      <td>Research &amp; Development</td>\n",
       "      <td>3</td>\n",
       "      <td>Life Sciences</td>\n",
       "      <td>Male</td>\n",
       "      <td>Research Director</td>\n",
       "      <td>Married</td>\n",
       "      <td>19740</td>\n",
       "      <td>No</td>\n",
       "      <td>14</td>\n",
       "      <td>3</td>\n",
       "      <td>2</td>\n",
       "      <td>25</td>\n",
       "      <td>8</td>\n",
       "      <td>7</td>\n",
       "      <td>0</td>\n",
       "      <td>7</td>\n",
       "    </tr>\n",
       "  </tbody>\n",
       "</table>\n",
       "<p>899 rows × 19 columns</p>\n",
       "</div>"
      ],
      "text/plain": [
       "     Age Job Satisfaction     BusinessTravel              Department  \\\n",
       "0     41              Yes      Travel_Rarely                   Sales   \n",
       "1     49               No  Travel_Frequently  Research & Development   \n",
       "2     37              Yes      Travel_Rarely  Research & Development   \n",
       "3     33               No  Travel_Frequently  Research & Development   \n",
       "4     27               No      Travel_Rarely  Research & Development   \n",
       "..   ...              ...                ...                     ...   \n",
       "894   54               No      Travel_Rarely  Research & Development   \n",
       "895   31               No      Travel_Rarely  Research & Development   \n",
       "896   31               No      Travel_Rarely  Research & Development   \n",
       "897   59               No      Travel_Rarely                   Sales   \n",
       "898   43               No      Travel_Rarely  Research & Development   \n",
       "\n",
       "     Distance From Home Education Field  Gender                    JobRole  \\\n",
       "0                     1   Life Sciences  Female            Sales Executive   \n",
       "1                     8   Life Sciences    Male         Research Scientist   \n",
       "2                     2           Other    Male      Laboratory Technician   \n",
       "3                     3   Life Sciences  Female         Research Scientist   \n",
       "4                     2         Medical    Male      Laboratory Technician   \n",
       "..                  ...             ...     ...                        ...   \n",
       "894                   3   Life Sciences    Male          Research Director   \n",
       "895                  11         Medical    Male  Healthcare Representative   \n",
       "896                  24         Medical  Female  Healthcare Representative   \n",
       "897                   3   Life Sciences  Female            Sales Executive   \n",
       "898                   3   Life Sciences    Male          Research Director   \n",
       "\n",
       "    Marital Status  Monthly Income  Over Time  Percent Salary Hike  \\\n",
       "0           Single             5993       Yes                   11   \n",
       "1          Married             5130        No                   23   \n",
       "2           Single             2090       Yes                   15   \n",
       "3          Married             2909       Yes                   11   \n",
       "4          Married             3468        No                   12   \n",
       "..             ...              ...       ...                  ...   \n",
       "894        Married            17779        No                   14   \n",
       "895        Married             6833       Yes                   12   \n",
       "896         Single             6812        No                   19   \n",
       "897         Single             5171        No                   17   \n",
       "898        Married            19740        No                   14   \n",
       "\n",
       "     Performance Rating  Relationship Satisfaction  Total Working Years  \\\n",
       "0                     3                          1                    8   \n",
       "1                     4                          4                   10   \n",
       "2                     3                          2                    7   \n",
       "3                     3                          3                    8   \n",
       "4                     3                          4                    6   \n",
       "..                  ...                        ...                  ...   \n",
       "894                   3                          1                   36   \n",
       "895                   3                          4                    6   \n",
       "896                   3                          2                   10   \n",
       "897                   3                          4                   13   \n",
       "898                   3                          2                   25   \n",
       "\n",
       "     Years At Company  Years In Current Role  Years Since Last Promotion  \\\n",
       "0                   6                      4                           0   \n",
       "1                  10                      7                           1   \n",
       "2                   0                      0                           0   \n",
       "3                   8                      7                           3   \n",
       "4                   2                      2                           2   \n",
       "..                ...                    ...                         ...   \n",
       "894                10                      9                           0   \n",
       "895                 6                      5                           0   \n",
       "896                10                      9                           1   \n",
       "897                 6                      1                           0   \n",
       "898                 8                      7                           0   \n",
       "\n",
       "     Years With Curr Manager  \n",
       "0                          5  \n",
       "1                          7  \n",
       "2                          0  \n",
       "3                          0  \n",
       "4                          2  \n",
       "..                       ...  \n",
       "894                        9  \n",
       "895                        1  \n",
       "896                        8  \n",
       "897                        5  \n",
       "898                        7  \n",
       "\n",
       "[899 rows x 19 columns]"
      ]
     },
     "execution_count": 423,
     "metadata": {},
     "output_type": "execute_result"
    }
   ],
   "source": [
    "df"
   ]
  },
  {
   "cell_type": "code",
   "execution_count": 424,
   "metadata": {},
   "outputs": [
    {
     "data": {
      "text/plain": [
       "Age                           0\n",
       "Job Satisfaction              0\n",
       "BusinessTravel                0\n",
       "Department                    0\n",
       "Distance From Home            0\n",
       "Education Field               0\n",
       "Gender                        0\n",
       "JobRole                       0\n",
       "Marital Status                0\n",
       "Monthly Income                0\n",
       "Over Time                     0\n",
       "Percent Salary Hike           0\n",
       "Performance Rating            0\n",
       "Relationship Satisfaction     0\n",
       "Total Working Years           0\n",
       "Years At Company              0\n",
       "Years In Current Role         0\n",
       "Years Since Last Promotion    0\n",
       "Years With Curr Manager       0\n",
       "dtype: int64"
      ]
     },
     "execution_count": 424,
     "metadata": {},
     "output_type": "execute_result"
    }
   ],
   "source": [
    "df.isnull().sum()"
   ]
  },
  {
   "cell_type": "code",
   "execution_count": 425,
   "metadata": {},
   "outputs": [
    {
     "data": {
      "text/plain": [
       "Age                            int64\n",
       "Job Satisfaction              object\n",
       "BusinessTravel                object\n",
       "Department                    object\n",
       "Distance From Home             int64\n",
       "Education Field               object\n",
       "Gender                        object\n",
       "JobRole                       object\n",
       "Marital Status                object\n",
       "Monthly Income                 int64\n",
       "Over Time                     object\n",
       "Percent Salary Hike            int64\n",
       "Performance Rating             int64\n",
       "Relationship Satisfaction      int64\n",
       "Total Working Years            int64\n",
       "Years At Company               int64\n",
       "Years In Current Role          int64\n",
       "Years Since Last Promotion     int64\n",
       "Years With Curr Manager        int64\n",
       "dtype: object"
      ]
     },
     "execution_count": 425,
     "metadata": {},
     "output_type": "execute_result"
    }
   ],
   "source": [
    "df.dtypes"
   ]
  },
  {
   "cell_type": "code",
   "execution_count": 426,
   "metadata": {},
   "outputs": [
    {
     "name": "stdout",
     "output_type": "stream",
     "text": [
      "<class 'pandas.core.frame.DataFrame'>\n",
      "RangeIndex: 899 entries, 0 to 898\n",
      "Data columns (total 19 columns):\n",
      " #   Column                      Non-Null Count  Dtype \n",
      "---  ------                      --------------  ----- \n",
      " 0   Age                         899 non-null    int64 \n",
      " 1   Job Satisfaction            899 non-null    object\n",
      " 2   BusinessTravel              899 non-null    object\n",
      " 3   Department                  899 non-null    object\n",
      " 4   Distance From Home          899 non-null    int64 \n",
      " 5   Education Field             899 non-null    object\n",
      " 6   Gender                      899 non-null    object\n",
      " 7   JobRole                     899 non-null    object\n",
      " 8   Marital Status              899 non-null    object\n",
      " 9   Monthly Income              899 non-null    int64 \n",
      " 10  Over Time                   899 non-null    object\n",
      " 11  Percent Salary Hike         899 non-null    int64 \n",
      " 12  Performance Rating          899 non-null    int64 \n",
      " 13  Relationship Satisfaction   899 non-null    int64 \n",
      " 14  Total Working Years         899 non-null    int64 \n",
      " 15  Years At Company            899 non-null    int64 \n",
      " 16  Years In Current Role       899 non-null    int64 \n",
      " 17  Years Since Last Promotion  899 non-null    int64 \n",
      " 18  Years With Curr Manager     899 non-null    int64 \n",
      "dtypes: int64(11), object(8)\n",
      "memory usage: 133.6+ KB\n"
     ]
    }
   ],
   "source": [
    "df.info()"
   ]
  },
  {
   "cell_type": "code",
   "execution_count": 427,
   "metadata": {},
   "outputs": [
    {
     "data": {
      "text/plain": [
       "<matplotlib.axes._subplots.AxesSubplot at 0x207671deac0>"
      ]
     },
     "execution_count": 427,
     "metadata": {},
     "output_type": "execute_result"
    },
    {
     "data": {
      "image/png": "[encoded data removed]",
      "text/plain": [
       "<Figure size 432x288 with 1 Axes>"
      ]
     },
     "metadata": {},
     "output_type": "display_data"
    }
   ],
   "source": [
    "sns.countplot(x = 'Marital Status', hue = 'Job Satisfaction', data = df)\n"
   ]
  },
  {
   "cell_type": "code",
   "execution_count": 428,
   "metadata": {},
   "outputs": [
    {
     "data": {
      "text/plain": [
       "<matplotlib.axes._subplots.AxesSubplot at 0x2076279ddf0>"
      ]
     },
     "execution_count": 428,
     "metadata": {},
     "output_type": "execute_result"
    },
    {
     "data": {
      "image/png": "[encoded data removed]",
      "text/plain": [
       "<Figure size 432x288 with 1 Axes>"
      ]
     },
     "metadata": {},
     "output_type": "display_data"
    }
   ],
   "source": [
    "sns.countplot(x = 'Gender', hue = 'Job Satisfaction', data = df)"
   ]
  },
  {
   "cell_type": "code",
   "execution_count": 429,
   "metadata": {},
   "outputs": [
    {
     "data": {
      "text/plain": [
       "(array([0, 1, 2, 3, 4, 5, 6, 7, 8]),\n",
       " <a list of 9 Text major ticklabel objects>)"
      ]
     },
     "execution_count": 429,
     "metadata": {},
     "output_type": "execute_result"
    },
    {
     "data": {
      "image/png": "[encoded data removed]",
      "text/plain": [
       "<Figure size 432x288 with 1 Axes>"
      ]
     },
     "metadata": {},
     "output_type": "display_data"
    }
   ],
   "source": [
    "import matplotlib.pyplot as plt  \n",
    "sns.countplot(x = 'JobRole', hue = 'Job Satisfaction', data = df)\n",
    "plt.xticks(rotation=90)"
   ]
  },
  {
   "cell_type": "code",
   "execution_count": 430,
   "metadata": {},
   "outputs": [
    {
     "data": {
      "text/plain": [
       "(array([0, 1, 2, 3, 4, 5]), <a list of 6 Text major ticklabel objects>)"
      ]
     },
     "execution_count": 430,
     "metadata": {},
     "output_type": "execute_result"
    },
    {
     "data": {
      "image/png": "[encoded data removed]",
      "text/plain": [
       "<Figure size 432x288 with 1 Axes>"
      ]
     },
     "metadata": {},
     "output_type": "display_data"
    }
   ],
   "source": [
    "import matplotlib.pyplot as plt  \n",
    "sns.countplot(x = 'Education Field', hue = 'Job Satisfaction', data = df)\n",
    "plt.xticks(rotation=45)"
   ]
  },
  {
   "cell_type": "code",
   "execution_count": 431,
   "metadata": {},
   "outputs": [
    {
     "data": {
      "text/html": [
       "<div>\n",
       "<style scoped>\n",
       "    .dataframe tbody tr th:only-of-type {\n",
       "        vertical-align: middle;\n",
       "    }\n",
       "\n",
       "    .dataframe tbody tr th {\n",
       "        vertical-align: top;\n",
       "    }\n",
       "\n",
       "    .dataframe thead th {\n",
       "        text-align: right;\n",
       "    }\n",
       "</style>\n",
       "<table border=\"1\" class=\"dataframe\">\n",
       "  <thead>\n",
       "    <tr style=\"text-align: right;\">\n",
       "      <th></th>\n",
       "      <th>Job Satisfaction</th>\n",
       "      <th>BusinessTravel</th>\n",
       "      <th>Department</th>\n",
       "      <th>Education Field</th>\n",
       "      <th>Gender</th>\n",
       "      <th>JobRole</th>\n",
       "      <th>Marital Status</th>\n",
       "      <th>Over Time</th>\n",
       "    </tr>\n",
       "  </thead>\n",
       "  <tbody>\n",
       "    <tr>\n",
       "      <th>0</th>\n",
       "      <td>Yes</td>\n",
       "      <td>Travel_Rarely</td>\n",
       "      <td>Sales</td>\n",
       "      <td>Life Sciences</td>\n",
       "      <td>Female</td>\n",
       "      <td>Sales Executive</td>\n",
       "      <td>Single</td>\n",
       "      <td>Yes</td>\n",
       "    </tr>\n",
       "    <tr>\n",
       "      <th>1</th>\n",
       "      <td>No</td>\n",
       "      <td>Travel_Frequently</td>\n",
       "      <td>Research &amp; Development</td>\n",
       "      <td>Life Sciences</td>\n",
       "      <td>Male</td>\n",
       "      <td>Research Scientist</td>\n",
       "      <td>Married</td>\n",
       "      <td>No</td>\n",
       "    </tr>\n",
       "    <tr>\n",
       "      <th>2</th>\n",
       "      <td>Yes</td>\n",
       "      <td>Travel_Rarely</td>\n",
       "      <td>Research &amp; Development</td>\n",
       "      <td>Other</td>\n",
       "      <td>Male</td>\n",
       "      <td>Laboratory Technician</td>\n",
       "      <td>Single</td>\n",
       "      <td>Yes</td>\n",
       "    </tr>\n",
       "    <tr>\n",
       "      <th>3</th>\n",
       "      <td>No</td>\n",
       "      <td>Travel_Frequently</td>\n",
       "      <td>Research &amp; Development</td>\n",
       "      <td>Life Sciences</td>\n",
       "      <td>Female</td>\n",
       "      <td>Research Scientist</td>\n",
       "      <td>Married</td>\n",
       "      <td>Yes</td>\n",
       "    </tr>\n",
       "    <tr>\n",
       "      <th>4</th>\n",
       "      <td>No</td>\n",
       "      <td>Travel_Rarely</td>\n",
       "      <td>Research &amp; Development</td>\n",
       "      <td>Medical</td>\n",
       "      <td>Male</td>\n",
       "      <td>Laboratory Technician</td>\n",
       "      <td>Married</td>\n",
       "      <td>No</td>\n",
       "    </tr>\n",
       "  </tbody>\n",
       "</table>\n",
       "</div>"
      ],
      "text/plain": [
       "  Job Satisfaction     BusinessTravel              Department Education Field  \\\n",
       "0              Yes      Travel_Rarely                   Sales   Life Sciences   \n",
       "1               No  Travel_Frequently  Research & Development   Life Sciences   \n",
       "2              Yes      Travel_Rarely  Research & Development           Other   \n",
       "3               No  Travel_Frequently  Research & Development   Life Sciences   \n",
       "4               No      Travel_Rarely  Research & Development         Medical   \n",
       "\n",
       "   Gender                JobRole Marital Status Over Time  \n",
       "0  Female        Sales Executive         Single       Yes  \n",
       "1    Male     Research Scientist        Married        No  \n",
       "2    Male  Laboratory Technician         Single       Yes  \n",
       "3  Female     Research Scientist        Married       Yes  \n",
       "4    Male  Laboratory Technician        Married        No  "
      ]
     },
     "execution_count": 431,
     "metadata": {},
     "output_type": "execute_result"
    }
   ],
   "source": [
    "df_num = df.select_dtypes(include = ['float64', 'int64'])\n",
    "df_num.shape\n",
    "df_cat = df.select_dtypes(include = ['object'])\n",
    "df_cat.shape\n",
    "df_cat.head()"
   ]
  },
  {
   "cell_type": "code",
   "execution_count": 432,
   "metadata": {},
   "outputs": [
    {
     "data": {
      "text/plain": [
       "array([[<matplotlib.axes._subplots.AxesSubplot object at 0x000002075E514DF0>,\n",
       "        <matplotlib.axes._subplots.AxesSubplot object at 0x00000207618AB5E0>,\n",
       "        <matplotlib.axes._subplots.AxesSubplot object at 0x000002075F1D7C70>],\n",
       "       [<matplotlib.axes._subplots.AxesSubplot object at 0x000002075F7F2940>,\n",
       "        <matplotlib.axes._subplots.AxesSubplot object at 0x000002075F7F7DC0>,\n",
       "        <matplotlib.axes._subplots.AxesSubplot object at 0x000002075F399EB0>],\n",
       "       [<matplotlib.axes._subplots.AxesSubplot object at 0x000002075F399910>,\n",
       "        <matplotlib.axes._subplots.AxesSubplot object at 0x000002075F7C60D0>,\n",
       "        <matplotlib.axes._subplots.AxesSubplot object at 0x000002075F77BB50>],\n",
       "       [<matplotlib.axes._subplots.AxesSubplot object at 0x000002075F6CC7F0>,\n",
       "        <matplotlib.axes._subplots.AxesSubplot object at 0x000002075E51B2E0>,\n",
       "        <matplotlib.axes._subplots.AxesSubplot object at 0x000002075F672400>]],\n",
       "      dtype=object)"
      ]
     },
     "execution_count": 432,
     "metadata": {},
     "output_type": "execute_result"
    },
    {
     "data": {
      "image/png": "[encoded data removed]",
      "text/plain": [
       "<Figure size 720x720 with 12 Axes>"
      ]
     },
     "metadata": {},
     "output_type": "display_data"
    }
   ],
   "source": [
    "df_num.hist(figsize=(10, 10), bins=50, xlabelsize=8, ylabelsize=8)"
   ]
  },
  {
   "cell_type": "code",
   "execution_count": 433,
   "metadata": {},
   "outputs": [
    {
     "data": {
      "image/png": "[encoded data removed]",
      "text/plain": [
       "<Figure size 864x2160 with 9 Axes>"
      ]
     },
     "metadata": {},
     "output_type": "display_data"
    }
   ],
   "source": [
    "import matplotlib.pyplot as plt  \n",
    "fig, axes = plt.subplots(round(len(df_cat.columns) / 3), 3, figsize=(12, 30))\n",
    "\n",
    "for i, ax in enumerate(fig.axes):\n",
    "    if i < len(df_cat.columns):\n",
    "        ax.set_xticklabels(ax.xaxis.get_majorticklabels(), rotation=45)\n",
    "        sns.countplot(x=df_cat.columns[i], alpha=0.7, data=df_cat, ax=ax)\n",
    "\n",
    "fig.tight_layout()"
   ]
  },
  {
   "cell_type": "code",
   "execution_count": 434,
   "metadata": {},
   "outputs": [
    {
     "data": {
      "image/png": "[encoded data removed]",
      "text/plain": [
       "<Figure size 720x720 with 2 Axes>"
      ]
     },
     "metadata": {},
     "output_type": "display_data"
    }
   ],
   "source": [
    "import seaborn\n",
    "fig, ax = plt.subplots(figsize=(10,10))\n",
    "corr_data = df_num.corr(method='pearson')\n",
    "mask = np.zeros_like(corr_data)\n",
    "mask[np.triu_indices_from(mask)] = True\n",
    "seaborn.heatmap(corr_data, cmap='RdYlGn', vmax=1.0,vmin=-1.0, mask = mask, linewidth=2.5)\n",
    "plt.yticks(rotation=0)\n",
    "plt.xticks(rotation=90)\n",
    "plt.show()"
   ]
  },
  {
   "cell_type": "code",
   "execution_count": 435,
   "metadata": {},
   "outputs": [
    {
     "data": {
      "text/html": [
       "<div>\n",
       "<style scoped>\n",
       "    .dataframe tbody tr th:only-of-type {\n",
       "        vertical-align: middle;\n",
       "    }\n",
       "\n",
       "    .dataframe tbody tr th {\n",
       "        vertical-align: top;\n",
       "    }\n",
       "\n",
       "    .dataframe thead th {\n",
       "        text-align: right;\n",
       "    }\n",
       "</style>\n",
       "<table border=\"1\" class=\"dataframe\">\n",
       "  <thead>\n",
       "    <tr style=\"text-align: right;\">\n",
       "      <th></th>\n",
       "      <th>Age</th>\n",
       "      <th>Distance From Home</th>\n",
       "      <th>Monthly Income</th>\n",
       "      <th>Percent Salary Hike</th>\n",
       "      <th>Performance Rating</th>\n",
       "      <th>Relationship Satisfaction</th>\n",
       "      <th>Total Working Years</th>\n",
       "      <th>Years At Company</th>\n",
       "      <th>Years In Current Role</th>\n",
       "      <th>Years Since Last Promotion</th>\n",
       "      <th>Years With Curr Manager</th>\n",
       "    </tr>\n",
       "  </thead>\n",
       "  <tbody>\n",
       "    <tr>\n",
       "      <th>Age</th>\n",
       "      <td>1.000000</td>\n",
       "      <td>-0.029026</td>\n",
       "      <td>0.495197</td>\n",
       "      <td>-0.041165</td>\n",
       "      <td>-0.045112</td>\n",
       "      <td>0.061167</td>\n",
       "      <td>0.683431</td>\n",
       "      <td>0.303491</td>\n",
       "      <td>0.192310</td>\n",
       "      <td>0.203710</td>\n",
       "      <td>0.187752</td>\n",
       "    </tr>\n",
       "    <tr>\n",
       "      <th>Distance From Home</th>\n",
       "      <td>-0.029026</td>\n",
       "      <td>1.000000</td>\n",
       "      <td>-0.055336</td>\n",
       "      <td>0.048922</td>\n",
       "      <td>0.028236</td>\n",
       "      <td>0.017027</td>\n",
       "      <td>-0.026623</td>\n",
       "      <td>-0.014391</td>\n",
       "      <td>0.013600</td>\n",
       "      <td>-0.008116</td>\n",
       "      <td>0.006740</td>\n",
       "    </tr>\n",
       "    <tr>\n",
       "      <th>Monthly Income</th>\n",
       "      <td>0.495197</td>\n",
       "      <td>-0.055336</td>\n",
       "      <td>1.000000</td>\n",
       "      <td>-0.077649</td>\n",
       "      <td>-0.067010</td>\n",
       "      <td>0.037517</td>\n",
       "      <td>0.775615</td>\n",
       "      <td>0.524357</td>\n",
       "      <td>0.377939</td>\n",
       "      <td>0.354826</td>\n",
       "      <td>0.343241</td>\n",
       "    </tr>\n",
       "    <tr>\n",
       "      <th>Percent Salary Hike</th>\n",
       "      <td>-0.041165</td>\n",
       "      <td>0.048922</td>\n",
       "      <td>-0.077649</td>\n",
       "      <td>1.000000</td>\n",
       "      <td>0.773388</td>\n",
       "      <td>-0.050720</td>\n",
       "      <td>-0.069521</td>\n",
       "      <td>-0.069612</td>\n",
       "      <td>-0.016960</td>\n",
       "      <td>-0.046207</td>\n",
       "      <td>-0.032878</td>\n",
       "    </tr>\n",
       "    <tr>\n",
       "      <th>Performance Rating</th>\n",
       "      <td>-0.045112</td>\n",
       "      <td>0.028236</td>\n",
       "      <td>-0.067010</td>\n",
       "      <td>0.773388</td>\n",
       "      <td>1.000000</td>\n",
       "      <td>-0.006905</td>\n",
       "      <td>-0.031554</td>\n",
       "      <td>-0.019236</td>\n",
       "      <td>0.028846</td>\n",
       "      <td>0.006535</td>\n",
       "      <td>0.016372</td>\n",
       "    </tr>\n",
       "    <tr>\n",
       "      <th>Relationship Satisfaction</th>\n",
       "      <td>0.061167</td>\n",
       "      <td>0.017027</td>\n",
       "      <td>0.037517</td>\n",
       "      <td>-0.050720</td>\n",
       "      <td>-0.006905</td>\n",
       "      <td>1.000000</td>\n",
       "      <td>0.048609</td>\n",
       "      <td>0.030602</td>\n",
       "      <td>-0.011395</td>\n",
       "      <td>0.048167</td>\n",
       "      <td>-0.004521</td>\n",
       "    </tr>\n",
       "    <tr>\n",
       "      <th>Total Working Years</th>\n",
       "      <td>0.683431</td>\n",
       "      <td>-0.026623</td>\n",
       "      <td>0.775615</td>\n",
       "      <td>-0.069521</td>\n",
       "      <td>-0.031554</td>\n",
       "      <td>0.048609</td>\n",
       "      <td>1.000000</td>\n",
       "      <td>0.625608</td>\n",
       "      <td>0.450022</td>\n",
       "      <td>0.401162</td>\n",
       "      <td>0.451229</td>\n",
       "    </tr>\n",
       "    <tr>\n",
       "      <th>Years At Company</th>\n",
       "      <td>0.303491</td>\n",
       "      <td>-0.014391</td>\n",
       "      <td>0.524357</td>\n",
       "      <td>-0.069612</td>\n",
       "      <td>-0.019236</td>\n",
       "      <td>0.030602</td>\n",
       "      <td>0.625608</td>\n",
       "      <td>1.000000</td>\n",
       "      <td>0.766004</td>\n",
       "      <td>0.625954</td>\n",
       "      <td>0.769730</td>\n",
       "    </tr>\n",
       "    <tr>\n",
       "      <th>Years In Current Role</th>\n",
       "      <td>0.192310</td>\n",
       "      <td>0.013600</td>\n",
       "      <td>0.377939</td>\n",
       "      <td>-0.016960</td>\n",
       "      <td>0.028846</td>\n",
       "      <td>-0.011395</td>\n",
       "      <td>0.450022</td>\n",
       "      <td>0.766004</td>\n",
       "      <td>1.000000</td>\n",
       "      <td>0.564177</td>\n",
       "      <td>0.723704</td>\n",
       "    </tr>\n",
       "    <tr>\n",
       "      <th>Years Since Last Promotion</th>\n",
       "      <td>0.203710</td>\n",
       "      <td>-0.008116</td>\n",
       "      <td>0.354826</td>\n",
       "      <td>-0.046207</td>\n",
       "      <td>0.006535</td>\n",
       "      <td>0.048167</td>\n",
       "      <td>0.401162</td>\n",
       "      <td>0.625954</td>\n",
       "      <td>0.564177</td>\n",
       "      <td>1.000000</td>\n",
       "      <td>0.499093</td>\n",
       "    </tr>\n",
       "    <tr>\n",
       "      <th>Years With Curr Manager</th>\n",
       "      <td>0.187752</td>\n",
       "      <td>0.006740</td>\n",
       "      <td>0.343241</td>\n",
       "      <td>-0.032878</td>\n",
       "      <td>0.016372</td>\n",
       "      <td>-0.004521</td>\n",
       "      <td>0.451229</td>\n",
       "      <td>0.769730</td>\n",
       "      <td>0.723704</td>\n",
       "      <td>0.499093</td>\n",
       "      <td>1.000000</td>\n",
       "    </tr>\n",
       "  </tbody>\n",
       "</table>\n",
       "</div>"
      ],
      "text/plain": [
       "                                 Age  Distance From Home  Monthly Income   \\\n",
       "Age                         1.000000           -0.029026         0.495197   \n",
       "Distance From Home         -0.029026            1.000000        -0.055336   \n",
       "Monthly Income              0.495197           -0.055336         1.000000   \n",
       "Percent Salary Hike        -0.041165            0.048922        -0.077649   \n",
       "Performance Rating         -0.045112            0.028236        -0.067010   \n",
       "Relationship Satisfaction   0.061167            0.017027         0.037517   \n",
       "Total Working Years         0.683431           -0.026623         0.775615   \n",
       "Years At Company            0.303491           -0.014391         0.524357   \n",
       "Years In Current Role       0.192310            0.013600         0.377939   \n",
       "Years Since Last Promotion  0.203710           -0.008116         0.354826   \n",
       "Years With Curr Manager     0.187752            0.006740         0.343241   \n",
       "\n",
       "                            Percent Salary Hike  Performance Rating  \\\n",
       "Age                                   -0.041165           -0.045112   \n",
       "Distance From Home                     0.048922            0.028236   \n",
       "Monthly Income                        -0.077649           -0.067010   \n",
       "Percent Salary Hike                    1.000000            0.773388   \n",
       "Performance Rating                     0.773388            1.000000   \n",
       "Relationship Satisfaction             -0.050720           -0.006905   \n",
       "Total Working Years                   -0.069521           -0.031554   \n",
       "Years At Company                      -0.069612           -0.019236   \n",
       "Years In Current Role                 -0.016960            0.028846   \n",
       "Years Since Last Promotion            -0.046207            0.006535   \n",
       "Years With Curr Manager               -0.032878            0.016372   \n",
       "\n",
       "                            Relationship Satisfaction  Total Working Years  \\\n",
       "Age                                          0.061167             0.683431   \n",
       "Distance From Home                           0.017027            -0.026623   \n",
       "Monthly Income                               0.037517             0.775615   \n",
       "Percent Salary Hike                         -0.050720            -0.069521   \n",
       "Performance Rating                          -0.006905            -0.031554   \n",
       "Relationship Satisfaction                    1.000000             0.048609   \n",
       "Total Working Years                          0.048609             1.000000   \n",
       "Years At Company                             0.030602             0.625608   \n",
       "Years In Current Role                       -0.011395             0.450022   \n",
       "Years Since Last Promotion                   0.048167             0.401162   \n",
       "Years With Curr Manager                     -0.004521             0.451229   \n",
       "\n",
       "                            Years At Company  Years In Current Role  \\\n",
       "Age                                 0.303491               0.192310   \n",
       "Distance From Home                 -0.014391               0.013600   \n",
       "Monthly Income                      0.524357               0.377939   \n",
       "Percent Salary Hike                -0.069612              -0.016960   \n",
       "Performance Rating                 -0.019236               0.028846   \n",
       "Relationship Satisfaction           0.030602              -0.011395   \n",
       "Total Working Years                 0.625608               0.450022   \n",
       "Years At Company                    1.000000               0.766004   \n",
       "Years In Current Role               0.766004               1.000000   \n",
       "Years Since Last Promotion          0.625954               0.564177   \n",
       "Years With Curr Manager             0.769730               0.723704   \n",
       "\n",
       "                            Years Since Last Promotion  \\\n",
       "Age                                           0.203710   \n",
       "Distance From Home                           -0.008116   \n",
       "Monthly Income                                0.354826   \n",
       "Percent Salary Hike                          -0.046207   \n",
       "Performance Rating                            0.006535   \n",
       "Relationship Satisfaction                     0.048167   \n",
       "Total Working Years                           0.401162   \n",
       "Years At Company                              0.625954   \n",
       "Years In Current Role                         0.564177   \n",
       "Years Since Last Promotion                    1.000000   \n",
       "Years With Curr Manager                       0.499093   \n",
       "\n",
       "                            Years With Curr Manager  \n",
       "Age                                        0.187752  \n",
       "Distance From Home                         0.006740  \n",
       "Monthly Income                             0.343241  \n",
       "Percent Salary Hike                       -0.032878  \n",
       "Performance Rating                         0.016372  \n",
       "Relationship Satisfaction                 -0.004521  \n",
       "Total Working Years                        0.451229  \n",
       "Years At Company                           0.769730  \n",
       "Years In Current Role                      0.723704  \n",
       "Years Since Last Promotion                 0.499093  \n",
       "Years With Curr Manager                    1.000000  "
      ]
     },
     "execution_count": 435,
     "metadata": {},
     "output_type": "execute_result"
    }
   ],
   "source": [
    "corr_data"
   ]
  },
  {
   "cell_type": "code",
   "execution_count": 436,
   "metadata": {},
   "outputs": [],
   "source": [
    "df = df.drop(['Years At Company'], axis = 1)\n",
    "#df = df.drop(['Years In Current Role'], axis = 1)\n",
    "#df = df.drop(['Years With Curr Manager'], axis = 1)\n",
    "df = df.drop(['Total Working Years'], axis = 1)\n",
    "df = df.drop(['Performance Rating'], axis = 1)"
   ]
  },
  {
   "cell_type": "code",
   "execution_count": 437,
   "metadata": {},
   "outputs": [
    {
     "data": {
      "text/plain": [
       "Index(['Age', 'Job Satisfaction', 'BusinessTravel', 'Department',\n",
       "       'Distance From Home', 'Education Field', 'Gender', 'JobRole',\n",
       "       'Marital Status', 'Monthly Income ', 'Over Time', 'Percent Salary Hike',\n",
       "       'Relationship Satisfaction', 'Years In Current Role',\n",
       "       'Years Since Last Promotion', 'Years With Curr Manager'],\n",
       "      dtype='object')"
      ]
     },
     "execution_count": 437,
     "metadata": {},
     "output_type": "execute_result"
    }
   ],
   "source": [
    "df.columns"
   ]
  },
  {
   "cell_type": "code",
   "execution_count": 438,
   "metadata": {
    "scrolled": true
   },
   "outputs": [
    {
     "data": {
      "text/html": [
       "<div>\n",
       "<style scoped>\n",
       "    .dataframe tbody tr th:only-of-type {\n",
       "        vertical-align: middle;\n",
       "    }\n",
       "\n",
       "    .dataframe tbody tr th {\n",
       "        vertical-align: top;\n",
       "    }\n",
       "\n",
       "    .dataframe thead th {\n",
       "        text-align: right;\n",
       "    }\n",
       "</style>\n",
       "<table border=\"1\" class=\"dataframe\">\n",
       "  <thead>\n",
       "    <tr style=\"text-align: right;\">\n",
       "      <th></th>\n",
       "      <th>Age</th>\n",
       "      <th>Job Satisfaction</th>\n",
       "      <th>Distance From Home</th>\n",
       "      <th>Monthly Income</th>\n",
       "      <th>Percent Salary Hike</th>\n",
       "      <th>Relationship Satisfaction</th>\n",
       "      <th>Years In Current Role</th>\n",
       "      <th>Years Since Last Promotion</th>\n",
       "      <th>Years With Curr Manager</th>\n",
       "      <th>BusinessTravel_Travel_Frequently</th>\n",
       "      <th>...</th>\n",
       "      <th>JobRole_Laboratory Technician</th>\n",
       "      <th>JobRole_Manager</th>\n",
       "      <th>JobRole_Manufacturing Director</th>\n",
       "      <th>JobRole_Research Director</th>\n",
       "      <th>JobRole_Research Scientist</th>\n",
       "      <th>JobRole_Sales Executive</th>\n",
       "      <th>JobRole_Sales Representative</th>\n",
       "      <th>Marital Status_Married</th>\n",
       "      <th>Marital Status_Single</th>\n",
       "      <th>Over Time_Yes</th>\n",
       "    </tr>\n",
       "  </thead>\n",
       "  <tbody>\n",
       "    <tr>\n",
       "      <th>0</th>\n",
       "      <td>41</td>\n",
       "      <td>Yes</td>\n",
       "      <td>1</td>\n",
       "      <td>5993</td>\n",
       "      <td>11</td>\n",
       "      <td>1</td>\n",
       "      <td>4</td>\n",
       "      <td>0</td>\n",
       "      <td>5</td>\n",
       "      <td>0</td>\n",
       "      <td>...</td>\n",
       "      <td>0</td>\n",
       "      <td>0</td>\n",
       "      <td>0</td>\n",
       "      <td>0</td>\n",
       "      <td>0</td>\n",
       "      <td>1</td>\n",
       "      <td>0</td>\n",
       "      <td>0</td>\n",
       "      <td>1</td>\n",
       "      <td>1</td>\n",
       "    </tr>\n",
       "    <tr>\n",
       "      <th>1</th>\n",
       "      <td>49</td>\n",
       "      <td>No</td>\n",
       "      <td>8</td>\n",
       "      <td>5130</td>\n",
       "      <td>23</td>\n",
       "      <td>4</td>\n",
       "      <td>7</td>\n",
       "      <td>1</td>\n",
       "      <td>7</td>\n",
       "      <td>1</td>\n",
       "      <td>...</td>\n",
       "      <td>0</td>\n",
       "      <td>0</td>\n",
       "      <td>0</td>\n",
       "      <td>0</td>\n",
       "      <td>1</td>\n",
       "      <td>0</td>\n",
       "      <td>0</td>\n",
       "      <td>1</td>\n",
       "      <td>0</td>\n",
       "      <td>0</td>\n",
       "    </tr>\n",
       "    <tr>\n",
       "      <th>2</th>\n",
       "      <td>37</td>\n",
       "      <td>Yes</td>\n",
       "      <td>2</td>\n",
       "      <td>2090</td>\n",
       "      <td>15</td>\n",
       "      <td>2</td>\n",
       "      <td>0</td>\n",
       "      <td>0</td>\n",
       "      <td>0</td>\n",
       "      <td>0</td>\n",
       "      <td>...</td>\n",
       "      <td>1</td>\n",
       "      <td>0</td>\n",
       "      <td>0</td>\n",
       "      <td>0</td>\n",
       "      <td>0</td>\n",
       "      <td>0</td>\n",
       "      <td>0</td>\n",
       "      <td>0</td>\n",
       "      <td>1</td>\n",
       "      <td>1</td>\n",
       "    </tr>\n",
       "    <tr>\n",
       "      <th>3</th>\n",
       "      <td>33</td>\n",
       "      <td>No</td>\n",
       "      <td>3</td>\n",
       "      <td>2909</td>\n",
       "      <td>11</td>\n",
       "      <td>3</td>\n",
       "      <td>7</td>\n",
       "      <td>3</td>\n",
       "      <td>0</td>\n",
       "      <td>1</td>\n",
       "      <td>...</td>\n",
       "      <td>0</td>\n",
       "      <td>0</td>\n",
       "      <td>0</td>\n",
       "      <td>0</td>\n",
       "      <td>1</td>\n",
       "      <td>0</td>\n",
       "      <td>0</td>\n",
       "      <td>1</td>\n",
       "      <td>0</td>\n",
       "      <td>1</td>\n",
       "    </tr>\n",
       "    <tr>\n",
       "      <th>4</th>\n",
       "      <td>27</td>\n",
       "      <td>No</td>\n",
       "      <td>2</td>\n",
       "      <td>3468</td>\n",
       "      <td>12</td>\n",
       "      <td>4</td>\n",
       "      <td>2</td>\n",
       "      <td>2</td>\n",
       "      <td>2</td>\n",
       "      <td>0</td>\n",
       "      <td>...</td>\n",
       "      <td>1</td>\n",
       "      <td>0</td>\n",
       "      <td>0</td>\n",
       "      <td>0</td>\n",
       "      <td>0</td>\n",
       "      <td>0</td>\n",
       "      <td>0</td>\n",
       "      <td>1</td>\n",
       "      <td>0</td>\n",
       "      <td>0</td>\n",
       "    </tr>\n",
       "    <tr>\n",
       "      <th>...</th>\n",
       "      <td>...</td>\n",
       "      <td>...</td>\n",
       "      <td>...</td>\n",
       "      <td>...</td>\n",
       "      <td>...</td>\n",
       "      <td>...</td>\n",
       "      <td>...</td>\n",
       "      <td>...</td>\n",
       "      <td>...</td>\n",
       "      <td>...</td>\n",
       "      <td>...</td>\n",
       "      <td>...</td>\n",
       "      <td>...</td>\n",
       "      <td>...</td>\n",
       "      <td>...</td>\n",
       "      <td>...</td>\n",
       "      <td>...</td>\n",
       "      <td>...</td>\n",
       "      <td>...</td>\n",
       "      <td>...</td>\n",
       "      <td>...</td>\n",
       "    </tr>\n",
       "    <tr>\n",
       "      <th>894</th>\n",
       "      <td>54</td>\n",
       "      <td>No</td>\n",
       "      <td>3</td>\n",
       "      <td>17779</td>\n",
       "      <td>14</td>\n",
       "      <td>1</td>\n",
       "      <td>9</td>\n",
       "      <td>0</td>\n",
       "      <td>9</td>\n",
       "      <td>0</td>\n",
       "      <td>...</td>\n",
       "      <td>0</td>\n",
       "      <td>0</td>\n",
       "      <td>0</td>\n",
       "      <td>1</td>\n",
       "      <td>0</td>\n",
       "      <td>0</td>\n",
       "      <td>0</td>\n",
       "      <td>1</td>\n",
       "      <td>0</td>\n",
       "      <td>0</td>\n",
       "    </tr>\n",
       "    <tr>\n",
       "      <th>895</th>\n",
       "      <td>31</td>\n",
       "      <td>No</td>\n",
       "      <td>11</td>\n",
       "      <td>6833</td>\n",
       "      <td>12</td>\n",
       "      <td>4</td>\n",
       "      <td>5</td>\n",
       "      <td>0</td>\n",
       "      <td>1</td>\n",
       "      <td>0</td>\n",
       "      <td>...</td>\n",
       "      <td>0</td>\n",
       "      <td>0</td>\n",
       "      <td>0</td>\n",
       "      <td>0</td>\n",
       "      <td>0</td>\n",
       "      <td>0</td>\n",
       "      <td>0</td>\n",
       "      <td>1</td>\n",
       "      <td>0</td>\n",
       "      <td>1</td>\n",
       "    </tr>\n",
       "    <tr>\n",
       "      <th>896</th>\n",
       "      <td>31</td>\n",
       "      <td>No</td>\n",
       "      <td>24</td>\n",
       "      <td>6812</td>\n",
       "      <td>19</td>\n",
       "      <td>2</td>\n",
       "      <td>9</td>\n",
       "      <td>1</td>\n",
       "      <td>8</td>\n",
       "      <td>0</td>\n",
       "      <td>...</td>\n",
       "      <td>0</td>\n",
       "      <td>0</td>\n",
       "      <td>0</td>\n",
       "      <td>0</td>\n",
       "      <td>0</td>\n",
       "      <td>0</td>\n",
       "      <td>0</td>\n",
       "      <td>0</td>\n",
       "      <td>1</td>\n",
       "      <td>0</td>\n",
       "    </tr>\n",
       "    <tr>\n",
       "      <th>897</th>\n",
       "      <td>59</td>\n",
       "      <td>No</td>\n",
       "      <td>3</td>\n",
       "      <td>5171</td>\n",
       "      <td>17</td>\n",
       "      <td>4</td>\n",
       "      <td>1</td>\n",
       "      <td>0</td>\n",
       "      <td>5</td>\n",
       "      <td>0</td>\n",
       "      <td>...</td>\n",
       "      <td>0</td>\n",
       "      <td>0</td>\n",
       "      <td>0</td>\n",
       "      <td>0</td>\n",
       "      <td>0</td>\n",
       "      <td>1</td>\n",
       "      <td>0</td>\n",
       "      <td>0</td>\n",
       "      <td>1</td>\n",
       "      <td>0</td>\n",
       "    </tr>\n",
       "    <tr>\n",
       "      <th>898</th>\n",
       "      <td>43</td>\n",
       "      <td>No</td>\n",
       "      <td>3</td>\n",
       "      <td>19740</td>\n",
       "      <td>14</td>\n",
       "      <td>2</td>\n",
       "      <td>7</td>\n",
       "      <td>0</td>\n",
       "      <td>7</td>\n",
       "      <td>0</td>\n",
       "      <td>...</td>\n",
       "      <td>0</td>\n",
       "      <td>0</td>\n",
       "      <td>0</td>\n",
       "      <td>1</td>\n",
       "      <td>0</td>\n",
       "      <td>0</td>\n",
       "      <td>0</td>\n",
       "      <td>1</td>\n",
       "      <td>0</td>\n",
       "      <td>0</td>\n",
       "    </tr>\n",
       "  </tbody>\n",
       "</table>\n",
       "<p>899 rows × 30 columns</p>\n",
       "</div>"
      ],
      "text/plain": [
       "     Age Job Satisfaction  Distance From Home  Monthly Income   \\\n",
       "0     41              Yes                   1             5993   \n",
       "1     49               No                   8             5130   \n",
       "2     37              Yes                   2             2090   \n",
       "3     33               No                   3             2909   \n",
       "4     27               No                   2             3468   \n",
       "..   ...              ...                 ...              ...   \n",
       "894   54               No                   3            17779   \n",
       "895   31               No                  11             6833   \n",
       "896   31               No                  24             6812   \n",
       "897   59               No                   3             5171   \n",
       "898   43               No                   3            19740   \n",
       "\n",
       "     Percent Salary Hike  Relationship Satisfaction  Years In Current Role  \\\n",
       "0                     11                          1                      4   \n",
       "1                     23                          4                      7   \n",
       "2                     15                          2                      0   \n",
       "3                     11                          3                      7   \n",
       "4                     12                          4                      2   \n",
       "..                   ...                        ...                    ...   \n",
       "894                   14                          1                      9   \n",
       "895                   12                          4                      5   \n",
       "896                   19                          2                      9   \n",
       "897                   17                          4                      1   \n",
       "898                   14                          2                      7   \n",
       "\n",
       "     Years Since Last Promotion  Years With Curr Manager  \\\n",
       "0                             0                        5   \n",
       "1                             1                        7   \n",
       "2                             0                        0   \n",
       "3                             3                        0   \n",
       "4                             2                        2   \n",
       "..                          ...                      ...   \n",
       "894                           0                        9   \n",
       "895                           0                        1   \n",
       "896                           1                        8   \n",
       "897                           0                        5   \n",
       "898                           0                        7   \n",
       "\n",
       "     BusinessTravel_Travel_Frequently  ...  JobRole_Laboratory Technician  \\\n",
       "0                                   0  ...                              0   \n",
       "1                                   1  ...                              0   \n",
       "2                                   0  ...                              1   \n",
       "3                                   1  ...                              0   \n",
       "4                                   0  ...                              1   \n",
       "..                                ...  ...                            ...   \n",
       "894                                 0  ...                              0   \n",
       "895                                 0  ...                              0   \n",
       "896                                 0  ...                              0   \n",
       "897                                 0  ...                              0   \n",
       "898                                 0  ...                              0   \n",
       "\n",
       "     JobRole_Manager  JobRole_Manufacturing Director  \\\n",
       "0                  0                               0   \n",
       "1                  0                               0   \n",
       "2                  0                               0   \n",
       "3                  0                               0   \n",
       "4                  0                               0   \n",
       "..               ...                             ...   \n",
       "894                0                               0   \n",
       "895                0                               0   \n",
       "896                0                               0   \n",
       "897                0                               0   \n",
       "898                0                               0   \n",
       "\n",
       "     JobRole_Research Director  JobRole_Research Scientist  \\\n",
       "0                            0                           0   \n",
       "1                            0                           1   \n",
       "2                            0                           0   \n",
       "3                            0                           1   \n",
       "4                            0                           0   \n",
       "..                         ...                         ...   \n",
       "894                          1                           0   \n",
       "895                          0                           0   \n",
       "896                          0                           0   \n",
       "897                          0                           0   \n",
       "898                          1                           0   \n",
       "\n",
       "     JobRole_Sales Executive  JobRole_Sales Representative  \\\n",
       "0                          1                             0   \n",
       "1                          0                             0   \n",
       "2                          0                             0   \n",
       "3                          0                             0   \n",
       "4                          0                             0   \n",
       "..                       ...                           ...   \n",
       "894                        0                             0   \n",
       "895                        0                             0   \n",
       "896                        0                             0   \n",
       "897                        1                             0   \n",
       "898                        0                             0   \n",
       "\n",
       "     Marital Status_Married  Marital Status_Single  Over Time_Yes  \n",
       "0                         0                      1              1  \n",
       "1                         1                      0              0  \n",
       "2                         0                      1              1  \n",
       "3                         1                      0              1  \n",
       "4                         1                      0              0  \n",
       "..                      ...                    ...            ...  \n",
       "894                       1                      0              0  \n",
       "895                       1                      0              1  \n",
       "896                       0                      1              0  \n",
       "897                       0                      1              0  \n",
       "898                       1                      0              0  \n",
       "\n",
       "[899 rows x 30 columns]"
      ]
     },
     "execution_count": 438,
     "metadata": {},
     "output_type": "execute_result"
    }
   ],
   "source": [
    "data = pd.get_dummies(df, columns = ['BusinessTravel', 'Department','Education Field', 'Gender', 'JobRole',\n",
    "       'Marital Status','Over Time'], drop_first = \"True\")\n",
    "data"
   ]
  },
  {
   "cell_type": "code",
   "execution_count": 439,
   "metadata": {},
   "outputs": [],
   "source": [
    "data = data.drop(['Job Satisfaction'], axis = 1)"
   ]
  },
  {
   "cell_type": "code",
   "execution_count": 440,
   "metadata": {},
   "outputs": [
    {
     "data": {
      "text/html": [
       "<div>\n",
       "<style scoped>\n",
       "    .dataframe tbody tr th:only-of-type {\n",
       "        vertical-align: middle;\n",
       "    }\n",
       "\n",
       "    .dataframe tbody tr th {\n",
       "        vertical-align: top;\n",
       "    }\n",
       "\n",
       "    .dataframe thead th {\n",
       "        text-align: right;\n",
       "    }\n",
       "</style>\n",
       "<table border=\"1\" class=\"dataframe\">\n",
       "  <thead>\n",
       "    <tr style=\"text-align: right;\">\n",
       "      <th></th>\n",
       "      <th>Age</th>\n",
       "      <th>Distance From Home</th>\n",
       "      <th>Monthly Income</th>\n",
       "      <th>Percent Salary Hike</th>\n",
       "      <th>Relationship Satisfaction</th>\n",
       "      <th>Years In Current Role</th>\n",
       "      <th>Years Since Last Promotion</th>\n",
       "      <th>Years With Curr Manager</th>\n",
       "      <th>BusinessTravel_Travel_Frequently</th>\n",
       "      <th>BusinessTravel_Travel_Rarely</th>\n",
       "      <th>...</th>\n",
       "      <th>JobRole_Laboratory Technician</th>\n",
       "      <th>JobRole_Manager</th>\n",
       "      <th>JobRole_Manufacturing Director</th>\n",
       "      <th>JobRole_Research Director</th>\n",
       "      <th>JobRole_Research Scientist</th>\n",
       "      <th>JobRole_Sales Executive</th>\n",
       "      <th>JobRole_Sales Representative</th>\n",
       "      <th>Marital Status_Married</th>\n",
       "      <th>Marital Status_Single</th>\n",
       "      <th>Over Time_Yes</th>\n",
       "    </tr>\n",
       "  </thead>\n",
       "  <tbody>\n",
       "    <tr>\n",
       "      <th>0</th>\n",
       "      <td>41</td>\n",
       "      <td>1</td>\n",
       "      <td>5993</td>\n",
       "      <td>11</td>\n",
       "      <td>1</td>\n",
       "      <td>4</td>\n",
       "      <td>0</td>\n",
       "      <td>5</td>\n",
       "      <td>0</td>\n",
       "      <td>1</td>\n",
       "      <td>...</td>\n",
       "      <td>0</td>\n",
       "      <td>0</td>\n",
       "      <td>0</td>\n",
       "      <td>0</td>\n",
       "      <td>0</td>\n",
       "      <td>1</td>\n",
       "      <td>0</td>\n",
       "      <td>0</td>\n",
       "      <td>1</td>\n",
       "      <td>1</td>\n",
       "    </tr>\n",
       "    <tr>\n",
       "      <th>1</th>\n",
       "      <td>49</td>\n",
       "      <td>8</td>\n",
       "      <td>5130</td>\n",
       "      <td>23</td>\n",
       "      <td>4</td>\n",
       "      <td>7</td>\n",
       "      <td>1</td>\n",
       "      <td>7</td>\n",
       "      <td>1</td>\n",
       "      <td>0</td>\n",
       "      <td>...</td>\n",
       "      <td>0</td>\n",
       "      <td>0</td>\n",
       "      <td>0</td>\n",
       "      <td>0</td>\n",
       "      <td>1</td>\n",
       "      <td>0</td>\n",
       "      <td>0</td>\n",
       "      <td>1</td>\n",
       "      <td>0</td>\n",
       "      <td>0</td>\n",
       "    </tr>\n",
       "    <tr>\n",
       "      <th>2</th>\n",
       "      <td>37</td>\n",
       "      <td>2</td>\n",
       "      <td>2090</td>\n",
       "      <td>15</td>\n",
       "      <td>2</td>\n",
       "      <td>0</td>\n",
       "      <td>0</td>\n",
       "      <td>0</td>\n",
       "      <td>0</td>\n",
       "      <td>1</td>\n",
       "      <td>...</td>\n",
       "      <td>1</td>\n",
       "      <td>0</td>\n",
       "      <td>0</td>\n",
       "      <td>0</td>\n",
       "      <td>0</td>\n",
       "      <td>0</td>\n",
       "      <td>0</td>\n",
       "      <td>0</td>\n",
       "      <td>1</td>\n",
       "      <td>1</td>\n",
       "    </tr>\n",
       "    <tr>\n",
       "      <th>3</th>\n",
       "      <td>33</td>\n",
       "      <td>3</td>\n",
       "      <td>2909</td>\n",
       "      <td>11</td>\n",
       "      <td>3</td>\n",
       "      <td>7</td>\n",
       "      <td>3</td>\n",
       "      <td>0</td>\n",
       "      <td>1</td>\n",
       "      <td>0</td>\n",
       "      <td>...</td>\n",
       "      <td>0</td>\n",
       "      <td>0</td>\n",
       "      <td>0</td>\n",
       "      <td>0</td>\n",
       "      <td>1</td>\n",
       "      <td>0</td>\n",
       "      <td>0</td>\n",
       "      <td>1</td>\n",
       "      <td>0</td>\n",
       "      <td>1</td>\n",
       "    </tr>\n",
       "    <tr>\n",
       "      <th>4</th>\n",
       "      <td>27</td>\n",
       "      <td>2</td>\n",
       "      <td>3468</td>\n",
       "      <td>12</td>\n",
       "      <td>4</td>\n",
       "      <td>2</td>\n",
       "      <td>2</td>\n",
       "      <td>2</td>\n",
       "      <td>0</td>\n",
       "      <td>1</td>\n",
       "      <td>...</td>\n",
       "      <td>1</td>\n",
       "      <td>0</td>\n",
       "      <td>0</td>\n",
       "      <td>0</td>\n",
       "      <td>0</td>\n",
       "      <td>0</td>\n",
       "      <td>0</td>\n",
       "      <td>1</td>\n",
       "      <td>0</td>\n",
       "      <td>0</td>\n",
       "    </tr>\n",
       "  </tbody>\n",
       "</table>\n",
       "<p>5 rows × 29 columns</p>\n",
       "</div>"
      ],
      "text/plain": [
       "   Age  Distance From Home  Monthly Income   Percent Salary Hike  \\\n",
       "0   41                   1             5993                   11   \n",
       "1   49                   8             5130                   23   \n",
       "2   37                   2             2090                   15   \n",
       "3   33                   3             2909                   11   \n",
       "4   27                   2             3468                   12   \n",
       "\n",
       "   Relationship Satisfaction  Years In Current Role  \\\n",
       "0                          1                      4   \n",
       "1                          4                      7   \n",
       "2                          2                      0   \n",
       "3                          3                      7   \n",
       "4                          4                      2   \n",
       "\n",
       "   Years Since Last Promotion  Years With Curr Manager  \\\n",
       "0                           0                        5   \n",
       "1                           1                        7   \n",
       "2                           0                        0   \n",
       "3                           3                        0   \n",
       "4                           2                        2   \n",
       "\n",
       "   BusinessTravel_Travel_Frequently  BusinessTravel_Travel_Rarely  ...  \\\n",
       "0                                 0                             1  ...   \n",
       "1                                 1                             0  ...   \n",
       "2                                 0                             1  ...   \n",
       "3                                 1                             0  ...   \n",
       "4                                 0                             1  ...   \n",
       "\n",
       "   JobRole_Laboratory Technician  JobRole_Manager  \\\n",
       "0                              0                0   \n",
       "1                              0                0   \n",
       "2                              1                0   \n",
       "3                              0                0   \n",
       "4                              1                0   \n",
       "\n",
       "   JobRole_Manufacturing Director  JobRole_Research Director  \\\n",
       "0                               0                          0   \n",
       "1                               0                          0   \n",
       "2                               0                          0   \n",
       "3                               0                          0   \n",
       "4                               0                          0   \n",
       "\n",
       "   JobRole_Research Scientist  JobRole_Sales Executive  \\\n",
       "0                           0                        1   \n",
       "1                           1                        0   \n",
       "2                           0                        0   \n",
       "3                           1                        0   \n",
       "4                           0                        0   \n",
       "\n",
       "   JobRole_Sales Representative  Marital Status_Married  \\\n",
       "0                             0                       0   \n",
       "1                             0                       1   \n",
       "2                             0                       0   \n",
       "3                             0                       1   \n",
       "4                             0                       1   \n",
       "\n",
       "   Marital Status_Single  Over Time_Yes  \n",
       "0                      1              1  \n",
       "1                      0              0  \n",
       "2                      1              1  \n",
       "3                      0              1  \n",
       "4                      0              0  \n",
       "\n",
       "[5 rows x 29 columns]"
      ]
     },
     "execution_count": 440,
     "metadata": {},
     "output_type": "execute_result"
    }
   ],
   "source": [
    "data.head()"
   ]
  },
  {
   "cell_type": "code",
   "execution_count": 441,
   "metadata": {},
   "outputs": [
    {
     "data": {
      "text/plain": [
       "(899, 29)"
      ]
     },
     "execution_count": 441,
     "metadata": {},
     "output_type": "execute_result"
    }
   ],
   "source": [
    "data.shape"
   ]
  },
  {
   "cell_type": "code",
   "execution_count": 442,
   "metadata": {},
   "outputs": [],
   "source": [
    "data['Job Satisafction'] = df['Job Satisfaction'].replace('Yes',1).replace('No',0)"
   ]
  },
  {
   "cell_type": "code",
   "execution_count": 443,
   "metadata": {},
   "outputs": [
    {
     "data": {
      "text/plain": [
       "(899, 30)"
      ]
     },
     "execution_count": 443,
     "metadata": {},
     "output_type": "execute_result"
    }
   ],
   "source": [
    "data.shape"
   ]
  },
  {
   "cell_type": "code",
   "execution_count": 444,
   "metadata": {},
   "outputs": [
    {
     "data": {
      "text/plain": [
       "Age                                  int64\n",
       "Distance From Home                   int64\n",
       "Monthly Income                       int64\n",
       "Percent Salary Hike                  int64\n",
       "Relationship Satisfaction            int64\n",
       "Years In Current Role                int64\n",
       "Years Since Last Promotion           int64\n",
       "Years With Curr Manager              int64\n",
       "BusinessTravel_Travel_Frequently     uint8\n",
       "BusinessTravel_Travel_Rarely         uint8\n",
       "Department_Research & Development    uint8\n",
       "Department_Sales                     uint8\n",
       "Education Field_Life Sciences        uint8\n",
       "Education Field_Marketing            uint8\n",
       "Education Field_Medical              uint8\n",
       "Education Field_Other                uint8\n",
       "Education Field_Technical Degree     uint8\n",
       "Gender_Male                          uint8\n",
       "JobRole_Human Resources              uint8\n",
       "JobRole_Laboratory Technician        uint8\n",
       "JobRole_Manager                      uint8\n",
       "JobRole_Manufacturing Director       uint8\n",
       "JobRole_Research Director            uint8\n",
       "JobRole_Research Scientist           uint8\n",
       "JobRole_Sales Executive              uint8\n",
       "JobRole_Sales Representative         uint8\n",
       "Marital Status_Married               uint8\n",
       "Marital Status_Single                uint8\n",
       "Over Time_Yes                        uint8\n",
       "Job Satisafction                     int64\n",
       "dtype: object"
      ]
     },
     "execution_count": 444,
     "metadata": {},
     "output_type": "execute_result"
    }
   ],
   "source": [
    "data.dtypes"
   ]
  },
  {
   "cell_type": "code",
   "execution_count": 445,
   "metadata": {},
   "outputs": [
    {
     "data": {
      "text/plain": [
       "Index(['Age', 'Distance From Home', 'Monthly Income ', 'Percent Salary Hike',\n",
       "       'Relationship Satisfaction', 'Years In Current Role',\n",
       "       'Years Since Last Promotion', 'Years With Curr Manager',\n",
       "       'BusinessTravel_Travel_Frequently', 'BusinessTravel_Travel_Rarely',\n",
       "       'Department_Research & Development', 'Department_Sales',\n",
       "       'Education Field_Life Sciences', 'Education Field_Marketing',\n",
       "       'Education Field_Medical', 'Education Field_Other',\n",
       "       'Education Field_Technical Degree', 'Gender_Male',\n",
       "       'JobRole_Human Resources', 'JobRole_Laboratory Technician',\n",
       "       'JobRole_Manager', 'JobRole_Manufacturing Director',\n",
       "       'JobRole_Research Director', 'JobRole_Research Scientist',\n",
       "       'JobRole_Sales Executive', 'JobRole_Sales Representative',\n",
       "       'Marital Status_Married', 'Marital Status_Single', 'Over Time_Yes',\n",
       "       'Job Satisafction'],\n",
       "      dtype='object')"
      ]
     },
     "execution_count": 445,
     "metadata": {},
     "output_type": "execute_result"
    }
   ],
   "source": [
    "data.columns"
   ]
  },
  {
   "cell_type": "code",
   "execution_count": 446,
   "metadata": {},
   "outputs": [],
   "source": [
    "import statsmodels.api as sm\n",
    "import matplotlib.pyplot as plt\n",
    "from sklearn.linear_model import LogisticRegression\n",
    "from sklearn.feature_selection import f_regression\n",
    "from sklearn.model_selection import train_test_split\n",
    "from sklearn.preprocessing import StandardScaler\n",
    "import seaborn as sns\n",
    "sns.set()\n",
    "import sklearn"
   ]
  },
  {
   "cell_type": "code",
   "execution_count": 447,
   "metadata": {},
   "outputs": [],
   "source": [
    "X = data.drop(['Job Satisafction'], axis = 1)\n",
    "y = data['Job Satisafction']"
   ]
  },
  {
   "cell_type": "code",
   "execution_count": 448,
   "metadata": {},
   "outputs": [
    {
     "data": {
      "text/plain": [
       "array([[ 0.4366608 , -0.99318755, -0.11314111, -1.17349669, -1.60309632,\n",
       "        -0.06229245, -0.67194133,  0.2495274 , -0.48290388,  0.63960215,\n",
       "        -1.40599473,  1.51827108,  1.19846333, -0.35576174, -0.68305045,\n",
       "        -0.24777642, -0.30606203, -1.19846333, -0.16912752, -0.46176333,\n",
       "        -0.27917315, -0.34171653, -0.24523766, -0.50555573,  1.89386765,\n",
       "        -0.24523766, -0.89532296,  1.44545739,  1.57195498]])"
      ]
     },
     "execution_count": 448,
     "metadata": {},
     "output_type": "execute_result"
    }
   ],
   "source": [
    "#scaling data numeric data values between 0 to 1 for equal weightages\n",
    "scaler = sklearn.preprocessing.StandardScaler()\n",
    "scaler.fit(X)\n",
    "X_scaled = scaler.transform(X)\n",
    "X_scaled[0:1]"
   ]
  },
  {
   "cell_type": "code",
   "execution_count": 449,
   "metadata": {},
   "outputs": [],
   "source": [
    "#Prediction using logistic regression algorithm\n",
    "from sklearn.model_selection import train_test_split\n",
    "X_train, X_test, y_train, y_test = train_test_split(X_scaled, y, stratify=y, test_size = 0.15)"
   ]
  },
  {
   "cell_type": "code",
   "execution_count": 450,
   "metadata": {},
   "outputs": [
    {
     "data": {
      "text/plain": [
       "1    637\n",
       "0    637\n",
       "Name: Job Satisafction, dtype: int64"
      ]
     },
     "execution_count": 450,
     "metadata": {},
     "output_type": "execute_result"
    }
   ],
   "source": [
    "from imblearn.over_sampling import SMOTE\n",
    "\n",
    "smote = SMOTE(sampling_strategy='minority')\n",
    "X_sm, y_sm = smote.fit_sample(X_train, y_train)\n",
    "\n",
    "y_sm.value_counts()"
   ]
  },
  {
   "cell_type": "code",
   "execution_count": 451,
   "metadata": {},
   "outputs": [
    {
     "data": {
      "text/plain": [
       "LogisticRegression()"
      ]
     },
     "execution_count": 451,
     "metadata": {},
     "output_type": "execute_result"
    }
   ],
   "source": [
    "model = LogisticRegression()\n",
    "model.fit(X_sm,y_sm)"
   ]
  },
  {
   "cell_type": "code",
   "execution_count": 452,
   "metadata": {},
   "outputs": [
    {
     "name": "stdout",
     "output_type": "stream",
     "text": [
      "Feature: 0, Score: -0.54832\n",
      "Feature: 1, Score: 0.27961\n",
      "Feature: 2, Score: 0.31981\n",
      "Feature: 3, Score: -0.07493\n",
      "Feature: 4, Score: -0.24755\n",
      "Feature: 5, Score: -0.50562\n",
      "Feature: 6, Score: 0.84426\n",
      "Feature: 7, Score: -0.58302\n",
      "Feature: 8, Score: 0.58814\n",
      "Feature: 9, Score: 0.49789\n",
      "Feature: 10, Score: 0.55027\n",
      "Feature: 11, Score: 0.21690\n",
      "Feature: 12, Score: -0.05381\n",
      "Feature: 13, Score: 0.14348\n",
      "Feature: 14, Score: 0.08565\n",
      "Feature: 15, Score: -0.12207\n",
      "Feature: 16, Score: 0.17110\n",
      "Feature: 17, Score: 0.12614\n",
      "Feature: 18, Score: 0.58209\n",
      "Feature: 19, Score: 0.96292\n",
      "Feature: 20, Score: 0.15094\n",
      "Feature: 21, Score: -0.08478\n",
      "Feature: 22, Score: -0.11750\n",
      "Feature: 23, Score: 0.46768\n",
      "Feature: 24, Score: 1.02943\n",
      "Feature: 25, Score: 0.64202\n",
      "Feature: 26, Score: 0.18589\n",
      "Feature: 27, Score: 0.66428\n",
      "Feature: 28, Score: 0.88948\n"
     ]
    },
    {
     "data": {
      "image/png": "[encoded data removed]",
      "text/plain": [
       "<Figure size 432x288 with 1 Axes>"
      ]
     },
     "metadata": {},
     "output_type": "display_data"
    }
   ],
   "source": [
    "from matplotlib import pyplot\n",
    "importance = model.coef_[0]\n",
    "for i,v in enumerate(importance):\n",
    "\tprint('Feature: %0d, Score: %.5f' % (i,v))\n",
    "pyplot.bar([x for x in range(len(importance))], importance)\n",
    "pyplot.show()"
   ]
  },
  {
   "cell_type": "code",
   "execution_count": 453,
   "metadata": {},
   "outputs": [
    {
     "data": {
      "text/plain": [
       "135"
      ]
     },
     "execution_count": 453,
     "metadata": {},
     "output_type": "execute_result"
    }
   ],
   "source": [
    "len(X_test)"
   ]
  },
  {
   "cell_type": "code",
   "execution_count": 454,
   "metadata": {},
   "outputs": [
    {
     "data": {
      "text/plain": [
       "(899, 29)"
      ]
     },
     "execution_count": 454,
     "metadata": {},
     "output_type": "execute_result"
    }
   ],
   "source": [
    "X.shape"
   ]
  },
  {
   "cell_type": "code",
   "execution_count": 455,
   "metadata": {},
   "outputs": [],
   "source": [
    "pred = model.predict(X_test)"
   ]
  },
  {
   "cell_type": "code",
   "execution_count": 456,
   "metadata": {},
   "outputs": [
    {
     "data": {
      "text/plain": [
       "array([-0.9306594])"
      ]
     },
     "execution_count": 456,
     "metadata": {},
     "output_type": "execute_result"
    }
   ],
   "source": [
    "model.intercept_"
   ]
  },
  {
   "cell_type": "code",
   "execution_count": 457,
   "metadata": {},
   "outputs": [
    {
     "data": {
      "text/plain": [
       "array([[86, 26],\n",
       "       [ 8, 15]], dtype=int64)"
      ]
     },
     "execution_count": 457,
     "metadata": {},
     "output_type": "execute_result"
    }
   ],
   "source": [
    "from sklearn import metrics\n",
    "cnf_matrix = metrics.confusion_matrix(y_test, pred)\n",
    "cnf_matrix"
   ]
  },
  {
   "cell_type": "code",
   "execution_count": 458,
   "metadata": {},
   "outputs": [
    {
     "name": "stdout",
     "output_type": "stream",
     "text": [
      "Accuracy: 0.7481481481481481\n",
      "Precision: 0.36585365853658536\n"
     ]
    }
   ],
   "source": [
    "print(\"Accuracy:\",metrics.accuracy_score(y_test, pred))\n",
    "print(\"Precision:\",metrics.precision_score(y_test, pred))"
   ]
  },
  {
   "cell_type": "code",
   "execution_count": 459,
   "metadata": {},
   "outputs": [
    {
     "data": {
      "text/plain": [
       "DecisionTreeClassifier(max_depth=4)"
      ]
     },
     "execution_count": 459,
     "metadata": {},
     "output_type": "execute_result"
    }
   ],
   "source": [
    "from sklearn.tree import DecisionTreeClassifier\n",
    "model = DecisionTreeClassifier(criterion='gini', max_depth=4)\n",
    "model.fit(X_train,y_train)"
   ]
  },
  {
   "cell_type": "code",
   "execution_count": 460,
   "metadata": {},
   "outputs": [
    {
     "data": {
      "text/plain": [
       "array([0.12212435, 0.13304149, 0.24347757, 0.        , 0.03656256,\n",
       "       0.        , 0.0193628 , 0.05068627, 0.0354882 , 0.        ,\n",
       "       0.        , 0.        , 0.        , 0.        , 0.        ,\n",
       "       0.        , 0.        , 0.        , 0.        , 0.        ,\n",
       "       0.        , 0.        , 0.        , 0.05101873, 0.        ,\n",
       "       0.        , 0.        , 0.09453959, 0.21369845])"
      ]
     },
     "execution_count": 460,
     "metadata": {},
     "output_type": "execute_result"
    }
   ],
   "source": [
    "model.feature_importances_"
   ]
  },
  {
   "cell_type": "code",
   "execution_count": 461,
   "metadata": {},
   "outputs": [
    {
     "data": {
      "text/plain": [
       "<matplotlib.axes._subplots.AxesSubplot at 0x20766e5e280>"
      ]
     },
     "execution_count": 461,
     "metadata": {},
     "output_type": "execute_result"
    },
    {
     "data": {
      "image/png": "[encoded data removed]",
      "text/plain": [
       "<Figure size 432x288 with 1 Axes>"
      ]
     },
     "metadata": {},
     "output_type": "display_data"
    }
   ],
   "source": [
    "(pd.Series(model.feature_importances_, index=X.columns)\n",
    "   .nlargest(10)\n",
    "   .plot(kind='barh')) "
   ]
  },
  {
   "cell_type": "code",
   "execution_count": 462,
   "metadata": {},
   "outputs": [],
   "source": [
    "pred = model.predict(X_test)"
   ]
  },
  {
   "cell_type": "code",
   "execution_count": 463,
   "metadata": {},
   "outputs": [],
   "source": [
    "featuredf = pd.DataFrame()\n",
    "featuredf['Column'] = X.columns\n",
    "featuredf['Score'] = model.feature_importances_"
   ]
  },
  {
   "cell_type": "code",
   "execution_count": 464,
   "metadata": {},
   "outputs": [
    {
     "data": {
      "text/html": [
       "<div>\n",
       "<style scoped>\n",
       "    .dataframe tbody tr th:only-of-type {\n",
       "        vertical-align: middle;\n",
       "    }\n",
       "\n",
       "    .dataframe tbody tr th {\n",
       "        vertical-align: top;\n",
       "    }\n",
       "\n",
       "    .dataframe thead th {\n",
       "        text-align: right;\n",
       "    }\n",
       "</style>\n",
       "<table border=\"1\" class=\"dataframe\">\n",
       "  <thead>\n",
       "    <tr style=\"text-align: right;\">\n",
       "      <th></th>\n",
       "      <th>Column</th>\n",
       "      <th>Score</th>\n",
       "    </tr>\n",
       "  </thead>\n",
       "  <tbody>\n",
       "    <tr>\n",
       "      <th>0</th>\n",
       "      <td>Age</td>\n",
       "      <td>0.122124</td>\n",
       "    </tr>\n",
       "    <tr>\n",
       "      <th>1</th>\n",
       "      <td>Distance From Home</td>\n",
       "      <td>0.133041</td>\n",
       "    </tr>\n",
       "    <tr>\n",
       "      <th>2</th>\n",
       "      <td>Monthly Income</td>\n",
       "      <td>0.243478</td>\n",
       "    </tr>\n",
       "    <tr>\n",
       "      <th>3</th>\n",
       "      <td>Percent Salary Hike</td>\n",
       "      <td>0.000000</td>\n",
       "    </tr>\n",
       "    <tr>\n",
       "      <th>4</th>\n",
       "      <td>Relationship Satisfaction</td>\n",
       "      <td>0.036563</td>\n",
       "    </tr>\n",
       "    <tr>\n",
       "      <th>5</th>\n",
       "      <td>Years In Current Role</td>\n",
       "      <td>0.000000</td>\n",
       "    </tr>\n",
       "    <tr>\n",
       "      <th>6</th>\n",
       "      <td>Years Since Last Promotion</td>\n",
       "      <td>0.019363</td>\n",
       "    </tr>\n",
       "    <tr>\n",
       "      <th>7</th>\n",
       "      <td>Years With Curr Manager</td>\n",
       "      <td>0.050686</td>\n",
       "    </tr>\n",
       "    <tr>\n",
       "      <th>8</th>\n",
       "      <td>BusinessTravel_Travel_Frequently</td>\n",
       "      <td>0.035488</td>\n",
       "    </tr>\n",
       "    <tr>\n",
       "      <th>9</th>\n",
       "      <td>BusinessTravel_Travel_Rarely</td>\n",
       "      <td>0.000000</td>\n",
       "    </tr>\n",
       "    <tr>\n",
       "      <th>10</th>\n",
       "      <td>Department_Research &amp; Development</td>\n",
       "      <td>0.000000</td>\n",
       "    </tr>\n",
       "    <tr>\n",
       "      <th>11</th>\n",
       "      <td>Department_Sales</td>\n",
       "      <td>0.000000</td>\n",
       "    </tr>\n",
       "    <tr>\n",
       "      <th>12</th>\n",
       "      <td>Education Field_Life Sciences</td>\n",
       "      <td>0.000000</td>\n",
       "    </tr>\n",
       "    <tr>\n",
       "      <th>13</th>\n",
       "      <td>Education Field_Marketing</td>\n",
       "      <td>0.000000</td>\n",
       "    </tr>\n",
       "    <tr>\n",
       "      <th>14</th>\n",
       "      <td>Education Field_Medical</td>\n",
       "      <td>0.000000</td>\n",
       "    </tr>\n",
       "    <tr>\n",
       "      <th>15</th>\n",
       "      <td>Education Field_Other</td>\n",
       "      <td>0.000000</td>\n",
       "    </tr>\n",
       "    <tr>\n",
       "      <th>16</th>\n",
       "      <td>Education Field_Technical Degree</td>\n",
       "      <td>0.000000</td>\n",
       "    </tr>\n",
       "    <tr>\n",
       "      <th>17</th>\n",
       "      <td>Gender_Male</td>\n",
       "      <td>0.000000</td>\n",
       "    </tr>\n",
       "    <tr>\n",
       "      <th>18</th>\n",
       "      <td>JobRole_Human Resources</td>\n",
       "      <td>0.000000</td>\n",
       "    </tr>\n",
       "    <tr>\n",
       "      <th>19</th>\n",
       "      <td>JobRole_Laboratory Technician</td>\n",
       "      <td>0.000000</td>\n",
       "    </tr>\n",
       "    <tr>\n",
       "      <th>20</th>\n",
       "      <td>JobRole_Manager</td>\n",
       "      <td>0.000000</td>\n",
       "    </tr>\n",
       "    <tr>\n",
       "      <th>21</th>\n",
       "      <td>JobRole_Manufacturing Director</td>\n",
       "      <td>0.000000</td>\n",
       "    </tr>\n",
       "    <tr>\n",
       "      <th>22</th>\n",
       "      <td>JobRole_Research Director</td>\n",
       "      <td>0.000000</td>\n",
       "    </tr>\n",
       "    <tr>\n",
       "      <th>23</th>\n",
       "      <td>JobRole_Research Scientist</td>\n",
       "      <td>0.051019</td>\n",
       "    </tr>\n",
       "    <tr>\n",
       "      <th>24</th>\n",
       "      <td>JobRole_Sales Executive</td>\n",
       "      <td>0.000000</td>\n",
       "    </tr>\n",
       "    <tr>\n",
       "      <th>25</th>\n",
       "      <td>JobRole_Sales Representative</td>\n",
       "      <td>0.000000</td>\n",
       "    </tr>\n",
       "    <tr>\n",
       "      <th>26</th>\n",
       "      <td>Marital Status_Married</td>\n",
       "      <td>0.000000</td>\n",
       "    </tr>\n",
       "    <tr>\n",
       "      <th>27</th>\n",
       "      <td>Marital Status_Single</td>\n",
       "      <td>0.094540</td>\n",
       "    </tr>\n",
       "    <tr>\n",
       "      <th>28</th>\n",
       "      <td>Over Time_Yes</td>\n",
       "      <td>0.213698</td>\n",
       "    </tr>\n",
       "  </tbody>\n",
       "</table>\n",
       "</div>"
      ],
      "text/plain": [
       "                               Column     Score\n",
       "0                                 Age  0.122124\n",
       "1                  Distance From Home  0.133041\n",
       "2                     Monthly Income   0.243478\n",
       "3                 Percent Salary Hike  0.000000\n",
       "4           Relationship Satisfaction  0.036563\n",
       "5               Years In Current Role  0.000000\n",
       "6          Years Since Last Promotion  0.019363\n",
       "7             Years With Curr Manager  0.050686\n",
       "8    BusinessTravel_Travel_Frequently  0.035488\n",
       "9        BusinessTravel_Travel_Rarely  0.000000\n",
       "10  Department_Research & Development  0.000000\n",
       "11                   Department_Sales  0.000000\n",
       "12      Education Field_Life Sciences  0.000000\n",
       "13          Education Field_Marketing  0.000000\n",
       "14            Education Field_Medical  0.000000\n",
       "15              Education Field_Other  0.000000\n",
       "16   Education Field_Technical Degree  0.000000\n",
       "17                        Gender_Male  0.000000\n",
       "18            JobRole_Human Resources  0.000000\n",
       "19      JobRole_Laboratory Technician  0.000000\n",
       "20                    JobRole_Manager  0.000000\n",
       "21     JobRole_Manufacturing Director  0.000000\n",
       "22          JobRole_Research Director  0.000000\n",
       "23         JobRole_Research Scientist  0.051019\n",
       "24            JobRole_Sales Executive  0.000000\n",
       "25       JobRole_Sales Representative  0.000000\n",
       "26             Marital Status_Married  0.000000\n",
       "27              Marital Status_Single  0.094540\n",
       "28                      Over Time_Yes  0.213698"
      ]
     },
     "execution_count": 464,
     "metadata": {},
     "output_type": "execute_result"
    }
   ],
   "source": [
    "featuredf"
   ]
  },
  {
   "cell_type": "code",
   "execution_count": 465,
   "metadata": {},
   "outputs": [
    {
     "data": {
      "text/plain": [
       "array([[106,   6],\n",
       "       [ 17,   6]], dtype=int64)"
      ]
     },
     "execution_count": 465,
     "metadata": {},
     "output_type": "execute_result"
    }
   ],
   "source": [
    "from sklearn import metrics\n",
    "cnf_matrix = metrics.confusion_matrix(y_test,pred)\n",
    "cnf_matrix"
   ]
  },
  {
   "cell_type": "code",
   "execution_count": 466,
   "metadata": {},
   "outputs": [
    {
     "name": "stdout",
     "output_type": "stream",
     "text": [
      "Accuracy: 0.8296296296296296\n",
      "Precision: 0.5\n"
     ]
    }
   ],
   "source": [
    "print(\"Accuracy:\",metrics.accuracy_score(y_test, pred))\n",
    "print(\"Precision:\",metrics.precision_score(y_test, pred))"
   ]
  },
  {
   "cell_type": "code",
   "execution_count": 467,
   "metadata": {},
   "outputs": [],
   "source": [
    "from sklearn.ensemble import RandomForestClassifier\n",
    "\n",
    "classifier = RandomForestClassifier(max_depth=4, random_state=0)\n",
    "classifier.fit(X_sm, y_sm)\n",
    "\n",
    "# Predicting the Test set results\n",
    "y_pred = classifier.predict(X_test)"
   ]
  },
  {
   "cell_type": "code",
   "execution_count": 468,
   "metadata": {},
   "outputs": [
    {
     "name": "stdout",
     "output_type": "stream",
     "text": [
      "[[103   9]\n",
      " [ 15   8]]\n",
      "Accuracy  0.8222222222222222\n"
     ]
    }
   ],
   "source": [
    "from sklearn.metrics import confusion_matrix\n",
    "from sklearn.metrics import accuracy_score\n",
    "\n",
    "cm = confusion_matrix(y_test, y_pred)\n",
    "print(cm)\n",
    "print('Accuracy  ' + str(accuracy_score(y_test, y_pred)))"
   ]
  },
  {
   "cell_type": "code",
   "execution_count": 469,
   "metadata": {},
   "outputs": [],
   "source": [
    "#features1 = pd.DataFrame(cols1)\n",
    "#importance = classifier.feature_importances_\n",
    "\n",
    "#feature_imp1 = pd.Series(importance,index= features1).sort_values(ascending=False)\n",
    "#print(feature_imp1)\n",
    "\n",
    "\n",
    "featuredf = pd.DataFrame()\n",
    "featuredf['Column'] = X.columns\n",
    "featuredf['Score'] = classifier.feature_importances_"
   ]
  },
  {
   "cell_type": "code",
   "execution_count": 470,
   "metadata": {},
   "outputs": [
    {
     "data": {
      "text/plain": [
       "<matplotlib.axes._subplots.AxesSubplot at 0x207626948e0>"
      ]
     },
     "execution_count": 470,
     "metadata": {},
     "output_type": "execute_result"
    },
    {
     "data": {
      "image/png": "[encoded data removed]",
      "text/plain": [
       "<Figure size 432x288 with 1 Axes>"
      ]
     },
     "metadata": {},
     "output_type": "display_data"
    }
   ],
   "source": [
    "(pd.Series(classifier.feature_importances_, index=X.columns)\n",
    "   .nlargest(10)\n",
    "   .plot(kind='barh')) "
   ]
  },
  {
   "cell_type": "code",
   "execution_count": 471,
   "metadata": {},
   "outputs": [],
   "source": [
    "# Try with 2 Pricipal components\n",
    "from sklearn.decomposition import PCA\n",
    "#X_sm, y_sm\n",
    "sc = StandardScaler()\n",
    "X_train2 = sc.fit_transform(X_sm)\n",
    "X_test2 = sc.transform(X_test)\n",
    "\n",
    "pca_2 = PCA(n_components=2)\n",
    "\n",
    "X_train2 = pca_2.fit_transform(X_train2)\n",
    "X_test2 = pca_2.transform(X_test2)"
   ]
  },
  {
   "cell_type": "code",
   "execution_count": 472,
   "metadata": {},
   "outputs": [],
   "source": [
    "from sklearn.ensemble import RandomForestClassifier\n",
    "\n",
    "classifier2 = RandomForestClassifier(max_depth=5, random_state=0)\n",
    "classifier2.fit(X_train2, y_sm)\n",
    "\n",
    "# Predicting the Test set results\n",
    "y_pred2 = classifier2.predict(X_test2)"
   ]
  },
  {
   "cell_type": "code",
   "execution_count": 473,
   "metadata": {},
   "outputs": [
    {
     "name": "stdout",
     "output_type": "stream",
     "text": [
      "[[80 32]\n",
      " [12 11]]\n",
      "Accuracy  0.674074074074074\n"
     ]
    }
   ],
   "source": [
    "from sklearn.metrics import confusion_matrix\n",
    "from sklearn.metrics import accuracy_score\n",
    "\n",
    "cm2 = confusion_matrix(y_test, y_pred2)\n",
    "print(cm2)\n",
    "print('Accuracy  ' + str(accuracy_score(y_test, y_pred2)))"
   ]
  },
  {
   "cell_type": "code",
   "execution_count": 474,
   "metadata": {},
   "outputs": [
    {
     "name": "stdout",
     "output_type": "stream",
     "text": [
      "[[105   7]\n",
      " [ 15   8]]\n",
      "Accuracy  0.837037037037037\n",
      "Classification Report: \n",
      "               precision    recall  f1-score   support\n",
      "\n",
      "           0       0.88      0.94      0.91       112\n",
      "           1       0.53      0.35      0.42        23\n",
      "\n",
      "    accuracy                           0.84       135\n",
      "   macro avg       0.70      0.64      0.66       135\n",
      "weighted avg       0.82      0.84      0.82       135\n",
      "\n"
     ]
    }
   ],
   "source": [
    "# xgboost ORIGINAL \n",
    "from sklearn.metrics import classification_report\n",
    "from xgboost import XGBClassifier\n",
    "from sklearn.metrics import accuracy_score\n",
    "#X_train, X_test, y_train, y_test\n",
    "# Remove 'id' and 'target' columns\n",
    "#labels = df.columns[2:]\n",
    "#X_sm, y_sm\n",
    "model = XGBClassifier()\n",
    "model.fit(X_train,y_train)\n",
    "Y_pred = model.predict(X_test)\n",
    "cm = confusion_matrix(y_test,Y_pred)\n",
    "print(cm)\n",
    "print('Accuracy  ' + str(accuracy_score(y_test, Y_pred)))\n",
    "print(\"Classification Report: \\n\", classification_report(y_test,Y_pred))"
   ]
  },
  {
   "cell_type": "code",
   "execution_count": 475,
   "metadata": {},
   "outputs": [
    {
     "name": "stdout",
     "output_type": "stream",
     "text": [
      "0.9375\n",
      "0.34782608695652173\n"
     ]
    }
   ],
   "source": [
    "# sensitivity \n",
    "sen = cm[0][0]/sum(cm[0])\n",
    "print(sen)\n",
    "sif = cm[1][1]/sum(cm[1])\n",
    "print(sif) "
   ]
  },
  {
   "cell_type": "code",
   "execution_count": 476,
   "metadata": {},
   "outputs": [
    {
     "data": {
      "text/plain": [
       "Index(['Age', 'Distance From Home', 'Monthly Income ', 'Percent Salary Hike',\n",
       "       'Relationship Satisfaction', 'Years In Current Role',\n",
       "       'Years Since Last Promotion', 'Years With Curr Manager',\n",
       "       'BusinessTravel_Travel_Frequently', 'BusinessTravel_Travel_Rarely',\n",
       "       'Department_Research & Development', 'Department_Sales',\n",
       "       'Education Field_Life Sciences', 'Education Field_Marketing',\n",
       "       'Education Field_Medical', 'Education Field_Other',\n",
       "       'Education Field_Technical Degree', 'Gender_Male',\n",
       "       'JobRole_Human Resources', 'JobRole_Laboratory Technician',\n",
       "       'JobRole_Manager', 'JobRole_Manufacturing Director',\n",
       "       'JobRole_Research Director', 'JobRole_Research Scientist',\n",
       "       'JobRole_Sales Executive', 'JobRole_Sales Representative',\n",
       "       'Marital Status_Married', 'Marital Status_Single', 'Over Time_Yes'],\n",
       "      dtype='object')"
      ]
     },
     "execution_count": 476,
     "metadata": {},
     "output_type": "execute_result"
    }
   ],
   "source": [
    "cols1 = X.columns\n",
    "cols1"
   ]
  },
  {
   "cell_type": "code",
   "execution_count": 477,
   "metadata": {},
   "outputs": [
    {
     "data": {
      "text/plain": [
       "(JobRole_Manager,)                      0.108926\n",
       "(Over Time_Yes,)                        0.079802\n",
       "(JobRole_Research Scientist,)           0.061133\n",
       "(Marital Status_Single,)                0.058361\n",
       "(Education Field_Marketing,)            0.051672\n",
       "(BusinessTravel_Travel_Frequently,)     0.049037\n",
       "(Education Field_Technical Degree,)     0.043534\n",
       "(JobRole_Sales Executive,)              0.041667\n",
       "(Monthly Income ,)                      0.038865\n",
       "(JobRole_Sales Representative,)         0.038105\n",
       "(JobRole_Laboratory Technician,)        0.036960\n",
       "(Years Since Last Promotion,)           0.032158\n",
       "(Years In Current Role,)                0.031968\n",
       "(Years With Curr Manager,)              0.030874\n",
       "(Age,)                                  0.030772\n",
       "(Relationship Satisfaction,)            0.030560\n",
       "(Department_Sales,)                     0.030398\n",
       "(Distance From Home,)                   0.029465\n",
       "(Education Field_Medical,)              0.027303\n",
       "(Gender_Male,)                          0.027057\n",
       "(Percent Salary Hike,)                  0.023700\n",
       "(Marital Status_Married,)               0.023195\n",
       "(BusinessTravel_Travel_Rarely,)         0.021979\n",
       "(Education Field_Life Sciences,)        0.020657\n",
       "(Department_Research & Development,)    0.020369\n",
       "(JobRole_Human Resources,)              0.008956\n",
       "(Education Field_Other,)                0.002529\n",
       "(JobRole_Manufacturing Director,)       0.000000\n",
       "(JobRole_Research Director,)            0.000000\n",
       "dtype: float32"
      ]
     },
     "execution_count": 477,
     "metadata": {},
     "output_type": "execute_result"
    }
   ],
   "source": [
    "# Feature Importance (MSS Claims Decile as dependent variable)\n",
    "features1 = pd.DataFrame(cols1)\n",
    "feature_imp1 = pd.Series(model.feature_importances_,index= features1).sort_values(ascending=False)\n",
    "feature_imp1"
   ]
  },
  {
   "cell_type": "code",
   "execution_count": 478,
   "metadata": {},
   "outputs": [],
   "source": [
    "featuredf1 = pd.DataFrame(cols1)\n",
    "featuredf1['Column'] = X.columns\n",
    "featuredf1['Score'] = model.feature_importances_ "
   ]
  },
  {
   "cell_type": "code",
   "execution_count": 479,
   "metadata": {},
   "outputs": [
    {
     "data": {
      "text/plain": [
       "<matplotlib.axes._subplots.AxesSubplot at 0x2075b1f32b0>"
      ]
     },
     "execution_count": 479,
     "metadata": {},
     "output_type": "execute_result"
    },
    {
     "data": {
      "image/png": "[encoded data removed]",
      "text/plain": [
       "<Figure size 432x288 with 1 Axes>"
      ]
     },
     "metadata": {},
     "output_type": "display_data"
    }
   ],
   "source": [
    "(pd.Series(model.feature_importances_, index=X.columns)\n",
    "   .nlargest(10)\n",
    "   .plot(kind='barh')) "
   ]
  },
  {
   "cell_type": "code",
   "execution_count": 481,
   "metadata": {},
   "outputs": [],
   "source": [
    "#feature_imp1.to_csv('feature_imp_2.csv')"
   ]
  },
  {
   "cell_type": "code",
   "execution_count": null,
   "metadata": {},
   "outputs": [],
   "source": []
  }
 ],
 "metadata": {
  "kernelspec": {
   "display_name": "Python 3",
   "language": "python",
   "name": "python3"
  },
  "language_info": {
   "codemirror_mode": {
    "name": "ipython",
    "version": 3
   },
   "file_extension": ".py",
   "mimetype": "text/x-python",
   "name": "python",
   "nbconvert_exporter": "python",
   "pygments_lexer": "ipython3",
   "version": "3.8.3"
  }
 },
 "nbformat": 4,
 "nbformat_minor": 4
}
